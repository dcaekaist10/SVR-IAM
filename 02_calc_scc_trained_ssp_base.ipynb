{
 "cells": [
  {
   "cell_type": "code",
   "execution_count": null,
   "metadata": {},
   "outputs": [],
   "source": [
    "import numpy as np\n",
    "import pandas as pd\n",
    "\n",
    "import matplotlib.pyplot as plt\n",
    "%matplotlib inline"
   ]
  },
  {
   "cell_type": "code",
   "execution_count": null,
   "metadata": {},
   "outputs": [],
   "source": [
    "import svr_IAM\n",
    "%load_ext autoreload\n",
    "%autoreload 2"
   ]
  },
  {
   "cell_type": "code",
   "execution_count": null,
   "metadata": {},
   "outputs": [],
   "source": [
    "plt.style.use('seaborn-whitegrid')\n",
    "plt.style.use('seaborn-pastel')"
   ]
  },
  {
   "attachments": {},
   "cell_type": "markdown",
   "metadata": {},
   "source": [
    "### 1. Load IAM"
   ]
  },
  {
   "cell_type": "code",
   "execution_count": null,
   "metadata": {},
   "outputs": [],
   "source": [
    "fund_data= pd.read_csv(\"FUND/FUND_socio_scc_complete.csv\", index_col=0)\n",
    "page_data= pd.read_csv(\"PAGE/PAGE_socio_scc_complete.csv\", index_col=0)\n",
    "dice_data= pd.read_csv(\"DICE/DICE_socio_scc_complete.csv\", index_col=0)"
   ]
  },
  {
   "cell_type": "code",
   "execution_count": null,
   "metadata": {},
   "outputs": [],
   "source": [
    "fund_data_use= fund_data.loc[(fund_data[\"Year\"] >= 2020) & (fund_data[\"Year\"] <= 2100)].reset_index(drop=True)\n",
    "fund_data_current= fund_data_use.copy()\n",
    "fund_data_current.iloc[:, -13:]= fund_data_current.iloc[:, -13:] * 1.98"
   ]
  },
  {
   "cell_type": "code",
   "execution_count": null,
   "metadata": {},
   "outputs": [],
   "source": [
    "fund_data_current"
   ]
  },
  {
   "cell_type": "code",
   "execution_count": null,
   "metadata": {},
   "outputs": [],
   "source": [
    "page_data_current= page_data.copy()\n",
    "page_data_current.iloc[:, -13:]= page_data_current.iloc[:, -13:] * 1.27\n",
    "page_data_current[\"popu\"]= page_data_current[\"popu\"]/1000\n"
   ]
  },
  {
   "cell_type": "code",
   "execution_count": null,
   "metadata": {},
   "outputs": [],
   "source": [
    "page_data_current.columns = ['Year', 'popu', 'GDP_percap', 'emiss_total', 'SCC', 'PAGE_1', 'PAGE_2', 'PAGE_3', 'PAGE_4', \n",
    "                                                                                 'PAGE_5', 'PAGE_6', 'PAGE_7', 'PAGE_8', 'PAGE_9',\n",
    "                                                                                 'PAGE_10', 'PAGE_11', 'PAGE_12']"
   ]
  },
  {
   "cell_type": "code",
   "execution_count": null,
   "metadata": {},
   "outputs": [],
   "source": [
    "page_data_current"
   ]
  },
  {
   "cell_type": "code",
   "execution_count": null,
   "metadata": {},
   "outputs": [],
   "source": []
  },
  {
   "cell_type": "code",
   "execution_count": null,
   "metadata": {},
   "outputs": [],
   "source": [
    "dice_data_current= dice_data.copy()\n",
    "\n",
    "dice_data_current.iloc[:, -13:]= dice_data_current.iloc[:, -13:] * 1.5\n",
    "dice_data_current.rename(columns={\"emiss_tot\": \"emiss_total\"}, inplace=True)\n",
    "dice_data_current[\"popu\"]= dice_data_current[\"popu\"]/1000\n",
    "\n",
    "dice_data_current\n"
   ]
  },
  {
   "cell_type": "code",
   "execution_count": null,
   "metadata": {},
   "outputs": [],
   "source": []
  },
  {
   "cell_type": "code",
   "execution_count": null,
   "metadata": {},
   "outputs": [],
   "source": []
  },
  {
   "cell_type": "markdown",
   "metadata": {},
   "source": [
    "### Make X and y dataset"
   ]
  },
  {
   "cell_type": "code",
   "execution_count": null,
   "metadata": {},
   "outputs": [],
   "source": [
    "PAGE_X_df= page_data_current.iloc[:, :4]\n",
    "PAGE_y_df= page_data_current.iloc[:, -13:]\n",
    "\n",
    "FUND_X_df= fund_data_current.iloc[:, :4]\n",
    "FUND_y_df= fund_data_current.iloc[:, -13:]\n",
    "\n",
    "DICE_X_df= dice_data_current.iloc[:, :4]\n",
    "DICE_y_df= dice_data_current.iloc[:, -13:]\n",
    "\n",
    "\n",
    "\n",
    "PAGE_y_df.columns= ['SCC', 'SCC_1', 'SCC_2', 'SCC_3', 'SCC_4', 'SCC_5', 'SCC_6', \n",
    "                            'SCC_7', 'SCC_8', 'SCC_9', 'SCC_10', 'SCC_11', 'SCC_12']\n",
    "\n",
    "FUND_y_df.columns= ['SCC', 'SCC_1', 'SCC_2', 'SCC_3', 'SCC_4', 'SCC_5', 'SCC_6', \n",
    "                            'SCC_7', 'SCC_8', 'SCC_9', 'SCC_10', 'SCC_11', 'SCC_12']\n",
    "\n",
    "DICE_y_df.columns= ['SCC', 'SCC_1', 'SCC_2', 'SCC_3', 'SCC_4', 'SCC_5', 'SCC_6', \n",
    "                            'SCC_7', 'SCC_8', 'SCC_9', 'SCC_10', 'SCC_11', 'SCC_12']\n",
    "\n",
    "\n",
    "\n",
    "\n",
    "# fund_y_df_prtp15= FUND_y_df[['SCC_1', 'SCC_2', 'SCC_3', 'SCC_4']]\n",
    "# fund_y_df_prtp1= FUND_y_df[['SCC_5', 'SCC_6', 'SCC_7', 'SCC_8']]\n",
    "# fund_y_df_prtp3= FUND_y_df[['SCC_9', 'SCC_10', 'SCC_11', 'SCC_12']]\n",
    "\n",
    "\n",
    "# page_y_df_prtp15= PAGE_y_df[['SCC_1', 'SCC_2', 'SCC_3', 'SCC_4']]\n",
    "# page_y_df_prtp1= PAGE_y_df[['SCC_5', 'SCC_6', 'SCC_7', 'SCC_8']]\n",
    "# page_y_df_prtp3= PAGE_y_df[['SCC_9', 'SCC_10', 'SCC_11', 'SCC_12']]"
   ]
  },
  {
   "cell_type": "code",
   "execution_count": null,
   "metadata": {},
   "outputs": [],
   "source": [
    "X_df= pd.concat([FUND_X_df, PAGE_X_df, DICE_X_df]).reset_index(drop=True)\n",
    "X_df"
   ]
  },
  {
   "cell_type": "code",
   "execution_count": null,
   "metadata": {},
   "outputs": [],
   "source": [
    "y_df= pd.concat([FUND_y_df, PAGE_y_df, DICE_y_df]).reset_index(drop=True)\n",
    "y_df"
   ]
  },
  {
   "cell_type": "code",
   "execution_count": null,
   "metadata": {},
   "outputs": [],
   "source": []
  },
  {
   "cell_type": "code",
   "execution_count": null,
   "metadata": {},
   "outputs": [],
   "source": [
    "y_df_prtp15= y_df[['SCC_1', 'SCC_2', 'SCC_3', 'SCC_4']]\n",
    "y_df_prtp1= y_df[['SCC_5', 'SCC_6', 'SCC_7', 'SCC_8']]\n",
    "y_df_prtp3= y_df[['SCC_9', 'SCC_10', 'SCC_11', 'SCC_12']]"
   ]
  },
  {
   "cell_type": "code",
   "execution_count": null,
   "metadata": {},
   "outputs": [],
   "source": []
  },
  {
   "cell_type": "markdown",
   "metadata": {},
   "source": [
    "#### Rank correlation"
   ]
  },
  {
   "cell_type": "code",
   "execution_count": null,
   "metadata": {},
   "outputs": [],
   "source": [
    "from scipy.stats import pearsonr\n",
    "\n",
    "correlation_coefficients = []\n",
    "p_values = []\n",
    "for i in range(len(X_df.columns)-1):\n",
    "    corr_coeff, p_value = pearsonr(X_df.iloc[:, i+1], y_df[\"SCC\"])\n",
    "    correlation_coefficients.append(corr_coeff)\n",
    "    p_values.append(p_value)"
   ]
  },
  {
   "cell_type": "code",
   "execution_count": null,
   "metadata": {},
   "outputs": [],
   "source": [
    "correlation_coefficients"
   ]
  },
  {
   "cell_type": "code",
   "execution_count": null,
   "metadata": {},
   "outputs": [],
   "source": [
    "p_values"
   ]
  },
  {
   "cell_type": "code",
   "execution_count": null,
   "metadata": {},
   "outputs": [],
   "source": []
  },
  {
   "cell_type": "code",
   "execution_count": null,
   "metadata": {},
   "outputs": [],
   "source": []
  },
  {
   "attachments": {},
   "cell_type": "markdown",
   "metadata": {},
   "source": [
    "### 2. Load the mcs input fund and page"
   ]
  },
  {
   "cell_type": "code",
   "execution_count": null,
   "metadata": {},
   "outputs": [],
   "source": [
    "mcs_folder= \"MCS_folder_IAM\"\n",
    "\n",
    "from glob import glob\n",
    "fund_mcs_filename= glob(mcs_folder + \"/\" + \"FUND*.csv\")\n",
    "page_mcs_filename= glob(mcs_folder + \"/\" + \"PAGE*.csv\")\n",
    "dice_mcs_filename= glob(mcs_folder + \"/\" + \"DICE*.csv\")\n",
    "\n",
    "len(fund_mcs_filename), len(page_mcs_filename), len(dice_mcs_filename)"
   ]
  },
  {
   "cell_type": "code",
   "execution_count": null,
   "metadata": {},
   "outputs": [],
   "source": [
    "fund_mcs_data= []\n",
    "for i in range(len(fund_mcs_filename)):\n",
    "    fund_mcs_data.append(pd.read_csv(fund_mcs_filename[i], index_col=0))\n",
    "\n",
    "\n",
    "page_mcs_data= []\n",
    "for i in range(len(page_mcs_filename)):\n",
    "    page_mcs_data.append(pd.read_csv(page_mcs_filename[i], index_col=0))\n",
    "\n",
    "\n",
    "dice_mcs_data= []\n",
    "for i in range(len(dice_mcs_filename)):\n",
    "    dice_mcs_data.append(pd.read_csv(dice_mcs_filename[i], index_col=0))\n"
   ]
  },
  {
   "cell_type": "code",
   "execution_count": null,
   "metadata": {},
   "outputs": [],
   "source": [
    "fund_mcs_data[0]"
   ]
  },
  {
   "cell_type": "code",
   "execution_count": null,
   "metadata": {},
   "outputs": [],
   "source": [
    "page_mcs_data[0]"
   ]
  },
  {
   "cell_type": "code",
   "execution_count": null,
   "metadata": {},
   "outputs": [],
   "source": [
    "dice_mcs_data[0]"
   ]
  },
  {
   "cell_type": "code",
   "execution_count": null,
   "metadata": {},
   "outputs": [],
   "source": []
  },
  {
   "cell_type": "code",
   "execution_count": null,
   "metadata": {},
   "outputs": [],
   "source": [
    "# fund_year= fund_data_current[\"Year\"].copy()\n",
    "# page_year= page_data_current[\"Year\"].copy()\n",
    "# dice_year= dice_data_current[\"Year\"].copy()\n",
    "\n",
    "year_all= fund_data_current[\"Year\"].copy() "
   ]
  },
  {
   "cell_type": "code",
   "execution_count": null,
   "metadata": {},
   "outputs": [],
   "source": [
    "year_all"
   ]
  },
  {
   "cell_type": "code",
   "execution_count": null,
   "metadata": {},
   "outputs": [],
   "source": []
  },
  {
   "cell_type": "markdown",
   "metadata": {},
   "source": [
    "### 2. Load SSP baseline MCS"
   ]
  },
  {
   "cell_type": "code",
   "execution_count": null,
   "metadata": {},
   "outputs": [],
   "source": [
    "ssp_base_mcs_folder= \"MCS_folder_ssp_baseline_all\"\n",
    "\n",
    "from glob import glob\n",
    "ssp_base_mcs_filename= glob(ssp_base_mcs_folder + \"/\" + \"*.csv\")\n",
    "\n",
    "\n",
    "len(ssp_base_mcs_filename)"
   ]
  },
  {
   "cell_type": "code",
   "execution_count": null,
   "metadata": {},
   "outputs": [],
   "source": [
    "ssp_base_mcs_filename"
   ]
  },
  {
   "cell_type": "code",
   "execution_count": null,
   "metadata": {},
   "outputs": [],
   "source": [
    "ssp_base_mcs_filename[49], ssp_base_mcs_filename[50], ssp_base_mcs_filename[-2], ssp_base_mcs_filename[-1] "
   ]
  },
  {
   "cell_type": "code",
   "execution_count": null,
   "metadata": {},
   "outputs": [],
   "source": [
    "ssp_base_mcs_data= []\n",
    "for i in range(len(ssp_base_mcs_filename)):\n",
    "    ssp_base_mcs_data.append(pd.read_csv(ssp_base_mcs_filename[i], index_col=0))\n",
    "    ssp_base_mcs_data[i].rename(columns= {\"emiss_tot\": \"emiss_total\"}, inplace=True)"
   ]
  },
  {
   "cell_type": "code",
   "execution_count": null,
   "metadata": {},
   "outputs": [],
   "source": [
    "ssp_base_mcs_data[0]"
   ]
  },
  {
   "cell_type": "code",
   "execution_count": null,
   "metadata": {},
   "outputs": [],
   "source": [
    "plt.plot(ssp_base_mcs_data[0][\"Year\"], ssp_base_mcs_data[0][\"emiss_total\"])\n",
    "plt.plot(ssp_base_mcs_data[49][\"Year\"], ssp_base_mcs_data[49][\"emiss_total\"])\n",
    "plt.ylim(0, 130000)"
   ]
  },
  {
   "cell_type": "code",
   "execution_count": null,
   "metadata": {},
   "outputs": [],
   "source": [
    "plt.plot(ssp_base_mcs_data[249][\"Year\"], ssp_base_mcs_data[249][\"emiss_total\"])\n",
    "plt.plot(ssp_base_mcs_data[-1][\"Year\"], ssp_base_mcs_data[-1][\"emiss_total\"])\n",
    "plt.ylim(0, 150000)"
   ]
  },
  {
   "cell_type": "code",
   "execution_count": null,
   "metadata": {},
   "outputs": [],
   "source": []
  },
  {
   "cell_type": "code",
   "execution_count": null,
   "metadata": {},
   "outputs": [],
   "source": [
    "fund_mcs_data[0]"
   ]
  },
  {
   "cell_type": "code",
   "execution_count": null,
   "metadata": {},
   "outputs": [],
   "source": []
  },
  {
   "cell_type": "code",
   "execution_count": null,
   "metadata": {},
   "outputs": [],
   "source": []
  },
  {
   "attachments": {},
   "cell_type": "markdown",
   "metadata": {},
   "source": [
    "### 3. Scaling mcs input"
   ]
  },
  {
   "cell_type": "code",
   "execution_count": null,
   "metadata": {},
   "outputs": [],
   "source": [
    "def scaling_transform_mod(choose_scaler, for_scale, new_data=None, inverse=None, for_inverse=None):\n",
    "    \n",
    "    if choose_scaler == \"minmax\":\n",
    "        scaler = MinMaxScaler()\n",
    "        scaler.fit(for_scale)\n",
    "        data_scaled = scaler.transform(new_data)\n",
    "    else:\n",
    "        scaler = StandardScaler()\n",
    "        scaler.fit(for_scale)\n",
    "        data_scaled = scaler.transform(new_data)\n",
    "\n",
    "\n",
    "    if inverse == 'yes':\n",
    "        scaler.fit(for_scale)\n",
    "        data_inverse = scaler.inverse_transform(for_inverse)\n",
    "        return data_inverse\n",
    "    else:\n",
    "        return data_scaled"
   ]
  },
  {
   "cell_type": "code",
   "execution_count": null,
   "metadata": {},
   "outputs": [],
   "source": [
    "scaler= 'minmax'\n",
    "\n",
    "fund_input_scld= []\n",
    "for i in range(len(fund_mcs_data)):\n",
    "    fund_input_scld.append(scaling_transform_mod(choose_scaler= scaler, \n",
    "                                                     for_scale= X_df.iloc[:, 1:],  \n",
    "                                                     new_data= fund_mcs_data[i].iloc[:, 1:]))\n",
    "\n",
    "page_input_scld= []\n",
    "for i in range(len(page_mcs_data)):\n",
    "    page_input_scld.append(scaling_transform_mod(choose_scaler= scaler, \n",
    "                                                     for_scale= X_df.iloc[:, 1:],  \n",
    "                                                     new_data= page_mcs_data[i].iloc[:, 1:]))\n",
    "\n",
    "\n",
    "dice_input_scld= []\n",
    "for i in range(len(dice_mcs_data)):\n",
    "    dice_input_scld.append(scaling_transform_mod(choose_scaler= scaler, \n",
    "                                                     for_scale= X_df.iloc[:, 1:],  \n",
    "                                                     new_data= dice_mcs_data[i].iloc[:, 1:]))\n",
    "\n",
    "\n",
    "ssp_base_input_scld= []\n",
    "for i in range(len(ssp_base_mcs_data)):\n",
    "    ssp_base_input_scld.append(scaling_transform_mod(choose_scaler= scaler, \n",
    "                                                     for_scale= X_df.iloc[:, 1:],  \n",
    "                                                     new_data= ssp_base_mcs_data[i].iloc[:, 1:]))\n"
   ]
  },
  {
   "cell_type": "code",
   "execution_count": null,
   "metadata": {},
   "outputs": [],
   "source": []
  },
  {
   "attachments": {},
   "cell_type": "markdown",
   "metadata": {},
   "source": [
    "### 4. Load trained model and prediction"
   ]
  },
  {
   "cell_type": "code",
   "execution_count": null,
   "metadata": {},
   "outputs": [],
   "source": [
    "SVR_folder_prtp15= \"SVR_01_1030_prtp_15\"\n",
    "SVR_folder_prtp1= \"SVR_01_1030_prtp_1\"\n",
    "SVR_folder_prtp3= \"SVR_01_1030_prtp_3\""
   ]
  },
  {
   "cell_type": "code",
   "execution_count": null,
   "metadata": {},
   "outputs": [],
   "source": [
    "\"\"\" LOAD MODEL \"\"\"\n",
    "import joblib\n",
    "model_prtp15= joblib.load(SVR_folder_prtp15 + \"/\" + \"_shuffle_1030_3iams_prtp_15_SVR_model.pkl\")\n",
    "model_prtp1= joblib.load(SVR_folder_prtp1 + \"/\" + \"_shuffle_1030_3iams_prtp_1_SVR_model.pkl\")\n",
    "model_prtp3= joblib.load(SVR_folder_prtp3 + \"/\" + \"_shuffle_1030_3iams_prtp_3_SVR_model.pkl\")"
   ]
  },
  {
   "cell_type": "code",
   "execution_count": null,
   "metadata": {},
   "outputs": [],
   "source": [
    "fund_pred_prtp15=[]\n",
    "fund_pred_prtp1=[]\n",
    "fund_pred_prtp3=[]\n",
    "\n",
    "for i in range(len(fund_input_scld)):\n",
    "    fund_pred_prtp15.append(model_prtp15.predict(fund_input_scld[i]))\n",
    "    fund_pred_prtp1.append(model_prtp1.predict(fund_input_scld[i]))\n",
    "    fund_pred_prtp3.append(model_prtp3.predict(fund_input_scld[i]))"
   ]
  },
  {
   "cell_type": "code",
   "execution_count": null,
   "metadata": {},
   "outputs": [],
   "source": [
    "page_pred_prtp15=[]\n",
    "page_pred_prtp1=[]\n",
    "page_pred_prtp3=[]\n",
    "\n",
    "for i in range(len(page_input_scld)):\n",
    "    page_pred_prtp15.append(model_prtp15.predict(page_input_scld[i]))\n",
    "    page_pred_prtp1.append(model_prtp1.predict(page_input_scld[i]))\n",
    "    page_pred_prtp3.append(model_prtp3.predict(page_input_scld[i]))"
   ]
  },
  {
   "cell_type": "code",
   "execution_count": null,
   "metadata": {},
   "outputs": [],
   "source": [
    "dice_pred_prtp15=[]\n",
    "dice_pred_prtp1=[]\n",
    "dice_pred_prtp3=[]\n",
    "\n",
    "for i in range(len(dice_input_scld)):\n",
    "    dice_pred_prtp15.append(model_prtp15.predict(dice_input_scld[i]))\n",
    "    dice_pred_prtp1.append(model_prtp1.predict(dice_input_scld[i]))\n",
    "    dice_pred_prtp3.append(model_prtp3.predict(dice_input_scld[i]))"
   ]
  },
  {
   "cell_type": "code",
   "execution_count": null,
   "metadata": {},
   "outputs": [],
   "source": [
    "ssp_base_pred_prtp15=[]\n",
    "ssp_base_pred_prtp1=[]\n",
    "ssp_base_pred_prtp3=[]\n",
    "\n",
    "for i in range(len(ssp_base_input_scld)):\n",
    "    ssp_base_pred_prtp15.append(model_prtp15.predict(ssp_base_input_scld[i]))\n",
    "    ssp_base_pred_prtp1.append(model_prtp1.predict(ssp_base_input_scld[i]))\n",
    "    ssp_base_pred_prtp3.append(model_prtp3.predict(ssp_base_input_scld[i]))"
   ]
  },
  {
   "cell_type": "code",
   "execution_count": null,
   "metadata": {},
   "outputs": [],
   "source": []
  },
  {
   "cell_type": "code",
   "execution_count": null,
   "metadata": {},
   "outputs": [],
   "source": []
  },
  {
   "attachments": {},
   "cell_type": "markdown",
   "metadata": {},
   "source": [
    "#### Inverse"
   ]
  },
  {
   "cell_type": "code",
   "execution_count": null,
   "metadata": {},
   "outputs": [],
   "source": [
    "from sklearn.preprocessing import StandardScaler, MinMaxScaler\n",
    "def scaling_transform(choose_scaler, for_scale, inverse=None, for_inverse=None):\n",
    "    \n",
    "    if choose_scaler == \"minmax\":\n",
    "        scaler = MinMaxScaler()\n",
    "        data_scaled = scaler.fit_transform(for_scale)\n",
    "    else:\n",
    "        scaler = StandardScaler()\n",
    "        data_scaled = scaler.fit_transform(for_scale)\n",
    "\n",
    "\n",
    "    if inverse == 'yes':\n",
    "        data_inverse = scaler.inverse_transform(for_inverse)\n",
    "        return data_inverse\n",
    "    else:\n",
    "        return data_scaled"
   ]
  },
  {
   "cell_type": "code",
   "execution_count": null,
   "metadata": {},
   "outputs": [],
   "source": [
    "fund_pred_inv_prtp15= []\n",
    "fund_pred_inv_prtp1= []\n",
    "fund_pred_inv_prtp3= []\n",
    "\n",
    "for i in range(len(fund_input_scld)):\n",
    "    fund_pred_inv_prtp15.append(scaling_transform(choose_scaler= scaler,\n",
    "                                                          for_scale= y_df_prtp15,\n",
    "                                                          inverse='yes',\n",
    "                                                          for_inverse= fund_pred_prtp15[i]))\n",
    "    fund_pred_inv_prtp1.append(scaling_transform(choose_scaler= scaler,\n",
    "                                                         for_scale= y_df_prtp1,\n",
    "                                                         inverse='yes',\n",
    "                                                         for_inverse= fund_pred_prtp1[i]))\n",
    "    fund_pred_inv_prtp3.append(scaling_transform(choose_scaler= scaler,\n",
    "                                                         for_scale= y_df_prtp3,\n",
    "                                                         inverse='yes',\n",
    "                                                         for_inverse= fund_pred_prtp3[i]))\n"
   ]
  },
  {
   "cell_type": "code",
   "execution_count": null,
   "metadata": {},
   "outputs": [],
   "source": [
    "page_pred_inv_prtp15= []\n",
    "page_pred_inv_prtp1= []\n",
    "page_pred_inv_prtp3= []\n",
    "\n",
    "for i in range(len(page_input_scld)):\n",
    "    page_pred_inv_prtp15.append(scaling_transform(choose_scaler= scaler,\n",
    "                                                          for_scale= y_df_prtp15,\n",
    "                                                          inverse='yes',\n",
    "                                                          for_inverse= page_pred_prtp15[i]))\n",
    "    page_pred_inv_prtp1.append(scaling_transform(choose_scaler= scaler,\n",
    "                                                         for_scale= y_df_prtp1,\n",
    "                                                         inverse='yes',\n",
    "                                                         for_inverse= page_pred_prtp1[i]))\n",
    "    page_pred_inv_prtp3.append(scaling_transform(choose_scaler= scaler,\n",
    "                                                         for_scale= y_df_prtp3,\n",
    "                                                         inverse='yes',\n",
    "                                                         for_inverse= page_pred_prtp3[i]))\n"
   ]
  },
  {
   "cell_type": "code",
   "execution_count": null,
   "metadata": {},
   "outputs": [],
   "source": [
    "dice_pred_inv_prtp15= []\n",
    "dice_pred_inv_prtp1= []\n",
    "dice_pred_inv_prtp3= []\n",
    "\n",
    "for i in range(len(dice_input_scld)):\n",
    "    dice_pred_inv_prtp15.append(scaling_transform(choose_scaler= scaler,\n",
    "                                                          for_scale= y_df_prtp15,\n",
    "                                                          inverse='yes',\n",
    "                                                          for_inverse= dice_pred_prtp15[i]))\n",
    "    dice_pred_inv_prtp1.append(scaling_transform(choose_scaler= scaler,\n",
    "                                                         for_scale= y_df_prtp1,\n",
    "                                                         inverse='yes',\n",
    "                                                         for_inverse= dice_pred_prtp1[i]))\n",
    "    dice_pred_inv_prtp3.append(scaling_transform(choose_scaler= scaler,\n",
    "                                                         for_scale= y_df_prtp3,\n",
    "                                                         inverse='yes',\n",
    "                                                         for_inverse= dice_pred_prtp3[i]))\n"
   ]
  },
  {
   "cell_type": "code",
   "execution_count": null,
   "metadata": {},
   "outputs": [],
   "source": [
    "ssp_base_pred_inv_prtp15= []\n",
    "ssp_base_pred_inv_prtp1= []\n",
    "ssp_base_pred_inv_prtp3= []\n",
    "\n",
    "for i in range(len(ssp_base_input_scld)):\n",
    "    ssp_base_pred_inv_prtp15.append(scaling_transform(choose_scaler= scaler,\n",
    "                                                          for_scale= y_df_prtp15,\n",
    "                                                          inverse='yes',\n",
    "                                                          for_inverse= ssp_base_pred_prtp15[i]))\n",
    "    ssp_base_pred_inv_prtp1.append(scaling_transform(choose_scaler= scaler,\n",
    "                                                         for_scale= y_df_prtp1,\n",
    "                                                         inverse='yes',\n",
    "                                                         for_inverse= ssp_base_pred_prtp1[i]))\n",
    "    ssp_base_pred_inv_prtp3.append(scaling_transform(choose_scaler= scaler,\n",
    "                                                         for_scale= y_df_prtp3,\n",
    "                                                         inverse='yes',\n",
    "                                                         for_inverse= ssp_base_pred_prtp3[i]))\n"
   ]
  },
  {
   "cell_type": "code",
   "execution_count": null,
   "metadata": {},
   "outputs": [],
   "source": []
  },
  {
   "cell_type": "code",
   "execution_count": null,
   "metadata": {},
   "outputs": [],
   "source": []
  },
  {
   "attachments": {},
   "cell_type": "markdown",
   "metadata": {},
   "source": [
    "### 5. Save prediction"
   ]
  },
  {
   "cell_type": "code",
   "execution_count": null,
   "metadata": {},
   "outputs": [],
   "source": [
    "import os\n",
    "''' making new directory folder '''\n",
    "def making_dir(dir_name):\n",
    "    # https://thispointer.com/how-to-create-a-directory-in-python/\n",
    "    # Create target Directory if don't exist\n",
    "    if not os.path.exists(dir_name):\n",
    "        os.makedirs(dir_name)\n",
    "        print(\"Directory \" , dir_name ,  \" Created \")\n",
    "    else:    \n",
    "        print(\"Directory \" , dir_name ,  \" already exists\")\n",
    "\n",
    "    return"
   ]
  },
  {
   "cell_type": "code",
   "execution_count": null,
   "metadata": {},
   "outputs": [],
   "source": [
    "pred_main_folder= \"02_SCC_pred_folder_1030_iams_sspbase\"\n",
    "making_dir(dir_name= pred_main_folder)\n",
    "\n",
    "pred_result_folder_fund_prtp1= pred_main_folder + \"/fund/prtp1\"\n",
    "pred_result_folder_fund_prtp15= pred_main_folder + \"/fund/prtp15\"\n",
    "pred_result_folder_fund_prtp3= pred_main_folder + \"/fund/prtp3\"\n",
    "\n",
    "making_dir(dir_name= pred_result_folder_fund_prtp1)\n",
    "making_dir(dir_name= pred_result_folder_fund_prtp15)\n",
    "making_dir(dir_name= pred_result_folder_fund_prtp3)\n",
    "\n",
    "\n",
    "\n",
    "pred_result_folder_page_prtp1= pred_main_folder + \"/page/prtp1\"\n",
    "pred_result_folder_page_prtp15= pred_main_folder + \"/page/prtp15\"\n",
    "pred_result_folder_page_prtp3= pred_main_folder + \"/page/prtp3\"\n",
    "\n",
    "making_dir(dir_name= pred_result_folder_page_prtp1)\n",
    "making_dir(dir_name= pred_result_folder_page_prtp15)\n",
    "making_dir(dir_name= pred_result_folder_page_prtp3)\n",
    "\n",
    "\n",
    "\n",
    "pred_result_folder_dice_prtp1= pred_main_folder + \"/dice/prtp1\"\n",
    "pred_result_folder_dice_prtp15= pred_main_folder + \"/dice/prtp15\"\n",
    "pred_result_folder_dice_prtp3= pred_main_folder + \"/dice/prtp3\"\n",
    "\n",
    "making_dir(dir_name= pred_result_folder_dice_prtp1)\n",
    "making_dir(dir_name= pred_result_folder_dice_prtp15)\n",
    "making_dir(dir_name= pred_result_folder_dice_prtp3)\n",
    "\n",
    "\n",
    "\n",
    "pred_result_folder_ssp_base_prtp1= pred_main_folder + \"/ssp_base/prtp1\"\n",
    "pred_result_folder_ssp_base_prtp15= pred_main_folder + \"/ssp_base/prtp15\"\n",
    "pred_result_folder_ssp_base_prtp3= pred_main_folder + \"/ssp_base/prtp3\"\n",
    "\n",
    "making_dir(dir_name= pred_result_folder_ssp_base_prtp1)\n",
    "making_dir(dir_name= pred_result_folder_ssp_base_prtp15)\n",
    "making_dir(dir_name= pred_result_folder_ssp_base_prtp3)"
   ]
  },
  {
   "cell_type": "code",
   "execution_count": null,
   "metadata": {},
   "outputs": [],
   "source": [
    "fund_pred_inv_prtp15_df= []\n",
    "fund_pred_inv_prtp1_df= []\n",
    "fund_pred_inv_prtp3_df= []\n",
    "\n",
    "\n",
    "for i in range(len(fund_pred_inv_prtp1)):\n",
    "    fund_pred_inv_prtp15_df.append(pd.DataFrame({\"Year\": year_all,\n",
    "                                                 \"scc_cs_1\": fund_pred_inv_prtp15[i][:,0],\n",
    "                                                 \"scc_cs_2\": fund_pred_inv_prtp15[i][:,1],\n",
    "                                                 \"scc_cs_3\": fund_pred_inv_prtp15[i][:,2],\n",
    "                                                 \"scc_cs_4\": fund_pred_inv_prtp15[i][:,3],}))\n",
    "\n",
    "    fund_pred_inv_prtp1_df.append(pd.DataFrame({\"Year\": year_all,\n",
    "                                                 \"scc_cs_5\": fund_pred_inv_prtp1[i][:,0],\n",
    "                                                 \"scc_cs_6\": fund_pred_inv_prtp1[i][:,1],\n",
    "                                                 \"scc_cs_7\": fund_pred_inv_prtp1[i][:,2],\n",
    "                                                 \"scc_cs_8\": fund_pred_inv_prtp1[i][:,3],}))\n",
    "\n",
    "    fund_pred_inv_prtp3_df.append(pd.DataFrame({\"Year\": year_all,\n",
    "                                                 \"scc_cs_9\": fund_pred_inv_prtp3[i][:,0],\n",
    "                                                 \"scc_cs_10\": fund_pred_inv_prtp3[i][:,1],\n",
    "                                                 \"scc_cs_11\": fund_pred_inv_prtp3[i][:,2],\n",
    "                                                 \"scc_cs_12\": fund_pred_inv_prtp3[i][:,3],}))"
   ]
  },
  {
   "cell_type": "code",
   "execution_count": null,
   "metadata": {},
   "outputs": [],
   "source": [
    "page_pred_inv_prtp15_df= []\n",
    "page_pred_inv_prtp1_df= []\n",
    "page_pred_inv_prtp3_df= []\n",
    "\n",
    "\n",
    "for i in range(len(page_pred_inv_prtp1)):\n",
    "    page_pred_inv_prtp15_df.append(pd.DataFrame({\"Year\": year_all,\n",
    "                                                 \"scc_cs_1\": page_pred_inv_prtp15[i][:,0],\n",
    "                                                 \"scc_cs_2\": page_pred_inv_prtp15[i][:,1],\n",
    "                                                 \"scc_cs_3\": page_pred_inv_prtp15[i][:,2],\n",
    "                                                 \"scc_cs_4\": page_pred_inv_prtp15[i][:,3],}))\n",
    "\n",
    "    page_pred_inv_prtp1_df.append(pd.DataFrame({\"Year\": year_all,\n",
    "                                                 \"scc_cs_5\": page_pred_inv_prtp1[i][:,0],\n",
    "                                                 \"scc_cs_6\": page_pred_inv_prtp1[i][:,1],\n",
    "                                                 \"scc_cs_7\": page_pred_inv_prtp1[i][:,2],\n",
    "                                                 \"scc_cs_8\": page_pred_inv_prtp1[i][:,3],}))\n",
    "\n",
    "    page_pred_inv_prtp3_df.append(pd.DataFrame({\"Year\": year_all,\n",
    "                                                 \"scc_cs_9\": page_pred_inv_prtp3[i][:,0],\n",
    "                                                 \"scc_cs_10\": page_pred_inv_prtp3[i][:,1],\n",
    "                                                 \"scc_cs_11\": page_pred_inv_prtp3[i][:,2],\n",
    "                                                 \"scc_cs_12\": page_pred_inv_prtp3[i][:,3],}))"
   ]
  },
  {
   "cell_type": "code",
   "execution_count": null,
   "metadata": {},
   "outputs": [],
   "source": [
    "dice_pred_inv_prtp15_df= []\n",
    "dice_pred_inv_prtp1_df= []\n",
    "dice_pred_inv_prtp3_df= []\n",
    "\n",
    "\n",
    "for i in range(len(dice_pred_inv_prtp1)):\n",
    "    dice_pred_inv_prtp15_df.append(pd.DataFrame({\"Year\": year_all,\n",
    "                                                 \"scc_cs_1\": dice_pred_inv_prtp15[i][:,0],\n",
    "                                                 \"scc_cs_2\": dice_pred_inv_prtp15[i][:,1],\n",
    "                                                 \"scc_cs_3\": dice_pred_inv_prtp15[i][:,2],\n",
    "                                                 \"scc_cs_4\": dice_pred_inv_prtp15[i][:,3],}))\n",
    "\n",
    "    dice_pred_inv_prtp1_df.append(pd.DataFrame({\"Year\": year_all,\n",
    "                                                 \"scc_cs_5\": dice_pred_inv_prtp1[i][:,0],\n",
    "                                                 \"scc_cs_6\": dice_pred_inv_prtp1[i][:,1],\n",
    "                                                 \"scc_cs_7\": dice_pred_inv_prtp1[i][:,2],\n",
    "                                                 \"scc_cs_8\": dice_pred_inv_prtp1[i][:,3],}))\n",
    "\n",
    "    dice_pred_inv_prtp3_df.append(pd.DataFrame({\"Year\": year_all,\n",
    "                                                 \"scc_cs_9\": dice_pred_inv_prtp3[i][:,0],\n",
    "                                                 \"scc_cs_10\": dice_pred_inv_prtp3[i][:,1],\n",
    "                                                 \"scc_cs_11\": dice_pred_inv_prtp3[i][:,2],\n",
    "                                                 \"scc_cs_12\": dice_pred_inv_prtp3[i][:,3],}))"
   ]
  },
  {
   "cell_type": "code",
   "execution_count": null,
   "metadata": {},
   "outputs": [],
   "source": [
    "ssp_base_pred_inv_prtp15_df= []\n",
    "ssp_base_pred_inv_prtp1_df= []\n",
    "ssp_base_pred_inv_prtp3_df= []\n",
    "\n",
    "\n",
    "for i in range(len(ssp_base_pred_inv_prtp1)):\n",
    "    ssp_base_pred_inv_prtp15_df.append(pd.DataFrame({\"Year\": year_all,\n",
    "                                                 \"scc_cs_1\": ssp_base_pred_inv_prtp15[i][:,0],\n",
    "                                                 \"scc_cs_2\": ssp_base_pred_inv_prtp15[i][:,1],\n",
    "                                                 \"scc_cs_3\": ssp_base_pred_inv_prtp15[i][:,2],\n",
    "                                                 \"scc_cs_4\": ssp_base_pred_inv_prtp15[i][:,3],}))\n",
    "\n",
    "    ssp_base_pred_inv_prtp1_df.append(pd.DataFrame({\"Year\": year_all,\n",
    "                                                 \"scc_cs_5\": ssp_base_pred_inv_prtp1[i][:,0],\n",
    "                                                 \"scc_cs_6\": ssp_base_pred_inv_prtp1[i][:,1],\n",
    "                                                 \"scc_cs_7\": ssp_base_pred_inv_prtp1[i][:,2],\n",
    "                                                 \"scc_cs_8\": ssp_base_pred_inv_prtp1[i][:,3],}))\n",
    "\n",
    "    ssp_base_pred_inv_prtp3_df.append(pd.DataFrame({\"Year\": year_all,\n",
    "                                                 \"scc_cs_9\": ssp_base_pred_inv_prtp3[i][:,0],\n",
    "                                                 \"scc_cs_10\": ssp_base_pred_inv_prtp3[i][:,1],\n",
    "                                                 \"scc_cs_11\": ssp_base_pred_inv_prtp3[i][:,2],\n",
    "                                                 \"scc_cs_12\": ssp_base_pred_inv_prtp3[i][:,3],}))"
   ]
  },
  {
   "cell_type": "code",
   "execution_count": null,
   "metadata": {},
   "outputs": [],
   "source": []
  },
  {
   "cell_type": "code",
   "execution_count": null,
   "metadata": {},
   "outputs": [],
   "source": [
    "page_pred_inv_prtp15_df[0], page_pred_inv_prtp1_df[1]"
   ]
  },
  {
   "cell_type": "code",
   "execution_count": null,
   "metadata": {},
   "outputs": [],
   "source": [
    "for i in range(len(fund_pred_inv_prtp15_df)):\n",
    "    fund_pred_inv_prtp15_df[i].to_csv(pred_result_folder_fund_prtp15 + \"/\" + \"scc_result_prpt15_fund_mcs_\" + str(i) + \".csv\")\n",
    "    fund_pred_inv_prtp1_df[i].to_csv(pred_result_folder_fund_prtp1 + \"/\" + \"scc_result_prpt1_fund_mcs_\" + str(i) + \".csv\")\n",
    "    fund_pred_inv_prtp3_df[i].to_csv(pred_result_folder_fund_prtp3 + \"/\" + \"scc_result_prpt3_fund_mcs_\" + str(i) + \".csv\")"
   ]
  },
  {
   "cell_type": "code",
   "execution_count": null,
   "metadata": {},
   "outputs": [],
   "source": [
    "for i in range(len(page_pred_inv_prtp15_df)):\n",
    "    page_pred_inv_prtp15_df[i].to_csv(pred_result_folder_page_prtp15 + \"/\" + \"scc_result_prpt15_page_mcs_\" + str(i) + \".csv\")\n",
    "    page_pred_inv_prtp1_df[i].to_csv(pred_result_folder_page_prtp1 + \"/\" + \"scc_result_prpt1_page_mcs_\" + str(i) + \".csv\")\n",
    "    page_pred_inv_prtp3_df[i].to_csv(pred_result_folder_page_prtp3 + \"/\" + \"scc_result_prpt3_page_mcs_\" + str(i) + \".csv\")"
   ]
  },
  {
   "cell_type": "code",
   "execution_count": null,
   "metadata": {},
   "outputs": [],
   "source": [
    "for i in range(len(dice_pred_inv_prtp15_df)):\n",
    "    dice_pred_inv_prtp15_df[i].to_csv(pred_result_folder_dice_prtp15 + \"/\" + \"scc_result_prpt15_dice_mcs_\" + str(i) + \".csv\")\n",
    "    dice_pred_inv_prtp1_df[i].to_csv(pred_result_folder_dice_prtp1 + \"/\" + \"scc_result_prpt1_dice_mcs_\" + str(i) + \".csv\")\n",
    "    dice_pred_inv_prtp3_df[i].to_csv(pred_result_folder_dice_prtp3 + \"/\" + \"scc_result_prpt3_dice_mcs_\" + str(i) + \".csv\")"
   ]
  },
  {
   "cell_type": "code",
   "execution_count": null,
   "metadata": {},
   "outputs": [],
   "source": [
    "for i in range(len(ssp_base_pred_inv_prtp15_df)):\n",
    "    ssp_base_pred_inv_prtp15_df[i].to_csv(pred_result_folder_ssp_base_prtp15 + \"/\" + \"scc_result_prpt15_ssp_base_mcs_\" + str(i) + \".csv\")\n",
    "    ssp_base_pred_inv_prtp1_df[i].to_csv(pred_result_folder_ssp_base_prtp1 + \"/\" + \"scc_result_prpt1_ssp_base_mcs_\" + str(i) + \".csv\")\n",
    "    ssp_base_pred_inv_prtp3_df[i].to_csv(pred_result_folder_ssp_base_prtp3 + \"/\" + \"scc_result_prpt3_ssp_base_mcs_\" + str(i) + \".csv\")"
   ]
  },
  {
   "cell_type": "code",
   "execution_count": null,
   "metadata": {},
   "outputs": [],
   "source": []
  },
  {
   "cell_type": "code",
   "execution_count": null,
   "metadata": {},
   "outputs": [],
   "source": []
  },
  {
   "cell_type": "code",
   "execution_count": null,
   "metadata": {},
   "outputs": [],
   "source": []
  }
 ],
 "metadata": {
  "kernelspec": {
   "display_name": "base",
   "language": "python",
   "name": "python3"
  },
  "language_info": {
   "codemirror_mode": {
    "name": "ipython",
    "version": 3
   },
   "file_extension": ".py",
   "mimetype": "text/x-python",
   "name": "python",
   "nbconvert_exporter": "python",
   "pygments_lexer": "ipython3",
   "version": "3.9.13"
  },
  "orig_nbformat": 4
 },
 "nbformat": 4,
 "nbformat_minor": 2
}
