{
 "cells": [
  {
   "cell_type": "code",
   "execution_count": null,
   "metadata": {},
   "outputs": [],
   "source": [
    "import numpy as np\n",
    "import pandas as pd\n",
    "\n",
    "import matplotlib.pyplot as plt\n",
    "%matplotlib inline"
   ]
  },
  {
   "cell_type": "code",
   "execution_count": null,
   "metadata": {},
   "outputs": [],
   "source": [
    "import svr_IAM\n",
    "%load_ext autoreload\n",
    "%autoreload 2"
   ]
  },
  {
   "cell_type": "code",
   "execution_count": null,
   "metadata": {},
   "outputs": [],
   "source": [
    "plt.style.use('seaborn-whitegrid')\n",
    "plt.style.use('seaborn-pastel')"
   ]
  },
  {
   "attachments": {},
   "cell_type": "markdown",
   "metadata": {},
   "source": [
    "### 1. Load PAGE, FUND, DICE"
   ]
  },
  {
   "cell_type": "code",
   "execution_count": null,
   "metadata": {},
   "outputs": [],
   "source": [
    "fund_data= pd.read_csv(\"FUND/FUND_socio_scc_complete.csv\", index_col=0)\n",
    "fund_data"
   ]
  },
  {
   "cell_type": "code",
   "execution_count": null,
   "metadata": {},
   "outputs": [],
   "source": [
    "fund_data.columns"
   ]
  },
  {
   "attachments": {},
   "cell_type": "markdown",
   "metadata": {},
   "source": [
    "'SCC_default', \n",
    "'cs2.81_prtp1.5', 'cs3.81_prtp75_prtp1.5', 'cs11.12_prtp1.5',\n",
    "'cs2.81_prtp1.03', 'cs3.81_prtp175_prtp1.03', 'cs11.12_prtp1.03',\n",
    "'cs2.81_prtp3.0', 'cs3.81_prtp75_prtp3.0', 'cs11.12_prtp3.0',"
   ]
  },
  {
   "cell_type": "code",
   "execution_count": null,
   "metadata": {},
   "outputs": [],
   "source": [
    "page_data= pd.read_csv(\"PAGE/PAGE_socio_scc_complete.csv\", index_col=0)\n",
    "page_data"
   ]
  },
  {
   "cell_type": "code",
   "execution_count": null,
   "metadata": {},
   "outputs": [],
   "source": [
    "dice_data= pd.read_csv(\"DICE/DICE_socio_scc_complete.csv\", index_col=0)\n",
    "dice_data"
   ]
  },
  {
   "cell_type": "code",
   "execution_count": null,
   "metadata": {},
   "outputs": [],
   "source": []
  },
  {
   "cell_type": "markdown",
   "metadata": {},
   "source": [
    "### Pre-processing each IAM data"
   ]
  },
  {
   "cell_type": "markdown",
   "metadata": {},
   "source": [
    "#### 1. FUND"
   ]
  },
  {
   "cell_type": "code",
   "execution_count": null,
   "metadata": {},
   "outputs": [],
   "source": [
    "fund_data_use= fund_data.loc[(fund_data[\"Year\"] >= 2020) & (fund_data[\"Year\"] <= 2100)].reset_index(drop=True)\n",
    "fund_data_use"
   ]
  },
  {
   "cell_type": "code",
   "execution_count": null,
   "metadata": {},
   "outputs": [],
   "source": [
    "fund_data_current= fund_data_use.copy()\n",
    "fund_data_current.columns"
   ]
  },
  {
   "cell_type": "code",
   "execution_count": null,
   "metadata": {},
   "outputs": [],
   "source": [
    "fund_data_current.iloc[:, -13:]= fund_data_current.iloc[:, -13:] * 1.98\n",
    "fund_data_current"
   ]
  },
  {
   "cell_type": "code",
   "execution_count": null,
   "metadata": {},
   "outputs": [],
   "source": []
  },
  {
   "cell_type": "code",
   "execution_count": null,
   "metadata": {},
   "outputs": [],
   "source": []
  },
  {
   "cell_type": "markdown",
   "metadata": {},
   "source": [
    "#### 2. PAGE"
   ]
  },
  {
   "cell_type": "code",
   "execution_count": null,
   "metadata": {},
   "outputs": [],
   "source": [
    "page_data_current= page_data.copy()\n",
    "\n",
    "page_data_current.iloc[:, -13:]= page_data_current.iloc[:, -13:] * 1.27\n",
    "page_data_current\n"
   ]
  },
  {
   "cell_type": "code",
   "execution_count": null,
   "metadata": {},
   "outputs": [],
   "source": [
    "page_data_current[\"popu\"]= page_data_current[\"popu\"]/1000"
   ]
  },
  {
   "cell_type": "code",
   "execution_count": null,
   "metadata": {},
   "outputs": [],
   "source": [
    "page_data_current"
   ]
  },
  {
   "cell_type": "code",
   "execution_count": null,
   "metadata": {},
   "outputs": [],
   "source": [
    "fund_data_current.columns"
   ]
  },
  {
   "cell_type": "code",
   "execution_count": null,
   "metadata": {},
   "outputs": [],
   "source": [
    "page_data_current.columns = ['Year', 'popu', 'GDP_percap', 'emiss_total', 'SCC', 'PAGE_1', 'PAGE_2', 'PAGE_3', 'PAGE_4', \n",
    "                                                                                 'PAGE_5', 'PAGE_6', 'PAGE_7', 'PAGE_8', 'PAGE_9',\n",
    "                                                                                 'PAGE_10', 'PAGE_11', 'PAGE_12']"
   ]
  },
  {
   "cell_type": "code",
   "execution_count": null,
   "metadata": {},
   "outputs": [],
   "source": [
    "page_data_current"
   ]
  },
  {
   "cell_type": "code",
   "execution_count": null,
   "metadata": {},
   "outputs": [],
   "source": []
  },
  {
   "cell_type": "markdown",
   "metadata": {},
   "source": [
    "#### 3. DICE"
   ]
  },
  {
   "cell_type": "code",
   "execution_count": null,
   "metadata": {},
   "outputs": [],
   "source": [
    "dice_data_current= dice_data.copy()\n",
    "\n",
    "dice_data_current.iloc[:, -13:]= dice_data_current.iloc[:, -13:] * 1.5\n",
    "dice_data_current\n"
   ]
  },
  {
   "cell_type": "code",
   "execution_count": null,
   "metadata": {},
   "outputs": [],
   "source": [
    "dice_data_current.rename(columns={\"emiss_tot\": \"emiss_total\"}, inplace=True)"
   ]
  },
  {
   "cell_type": "code",
   "execution_count": null,
   "metadata": {},
   "outputs": [],
   "source": [
    "dice_data_current[\"popu\"]= dice_data_current[\"popu\"]/1000"
   ]
  },
  {
   "cell_type": "code",
   "execution_count": null,
   "metadata": {},
   "outputs": [],
   "source": [
    "dice_data_current"
   ]
  },
  {
   "cell_type": "code",
   "execution_count": null,
   "metadata": {},
   "outputs": [],
   "source": []
  },
  {
   "attachments": {},
   "cell_type": "markdown",
   "metadata": {},
   "source": [
    "### 2. Make X and y dataset"
   ]
  },
  {
   "cell_type": "code",
   "execution_count": null,
   "metadata": {},
   "outputs": [],
   "source": [
    "PAGE_X_df= page_data_current.iloc[:, :4]\n",
    "PAGE_y_df= page_data_current.iloc[:, -13:]\n",
    "\n",
    "FUND_X_df= fund_data_current.iloc[:, :4]\n",
    "FUND_y_df= fund_data_current.iloc[:, -13:]\n",
    "\n",
    "DICE_X_df= dice_data_current.iloc[:, :4]\n",
    "DICE_y_df= dice_data_current.iloc[:, -13:]\n"
   ]
  },
  {
   "cell_type": "code",
   "execution_count": null,
   "metadata": {},
   "outputs": [],
   "source": [
    "PAGE_X_df.columns, PAGE_y_df.columns"
   ]
  },
  {
   "cell_type": "code",
   "execution_count": null,
   "metadata": {},
   "outputs": [],
   "source": [
    "FUND_X_df.columns, FUND_y_df.columns"
   ]
  },
  {
   "cell_type": "code",
   "execution_count": null,
   "metadata": {},
   "outputs": [],
   "source": [
    "DICE_X_df.columns, DICE_y_df.columns"
   ]
  },
  {
   "cell_type": "code",
   "execution_count": null,
   "metadata": {},
   "outputs": [],
   "source": []
  },
  {
   "cell_type": "code",
   "execution_count": null,
   "metadata": {},
   "outputs": [],
   "source": []
  },
  {
   "cell_type": "code",
   "execution_count": null,
   "metadata": {},
   "outputs": [],
   "source": [
    "PAGE_y_df.columns= ['SCC', 'SCC_1', 'SCC_2', 'SCC_3', 'SCC_4', 'SCC_5', 'SCC_6', \n",
    "                            'SCC_7', 'SCC_8', 'SCC_9', 'SCC_10', 'SCC_11', 'SCC_12']\n",
    "\n",
    "FUND_y_df.columns= ['SCC', 'SCC_1', 'SCC_2', 'SCC_3', 'SCC_4', 'SCC_5', 'SCC_6', \n",
    "                            'SCC_7', 'SCC_8', 'SCC_9', 'SCC_10', 'SCC_11', 'SCC_12']\n",
    "\n",
    "DICE_y_df.columns= ['SCC', 'SCC_1', 'SCC_2', 'SCC_3', 'SCC_4', 'SCC_5', 'SCC_6', \n",
    "                            'SCC_7', 'SCC_8', 'SCC_9', 'SCC_10', 'SCC_11', 'SCC_12']"
   ]
  },
  {
   "cell_type": "code",
   "execution_count": null,
   "metadata": {},
   "outputs": [],
   "source": [
    "# PAGE_y_df, \n",
    "FUND_y_df"
   ]
  },
  {
   "cell_type": "code",
   "execution_count": null,
   "metadata": {},
   "outputs": [],
   "source": [
    "FUND_y_df.columns"
   ]
  },
  {
   "cell_type": "code",
   "execution_count": null,
   "metadata": {},
   "outputs": [],
   "source": [
    "X_df= pd.concat([FUND_X_df, PAGE_X_df, DICE_X_df]).reset_index(drop=True)\n",
    "X_df"
   ]
  },
  {
   "cell_type": "code",
   "execution_count": null,
   "metadata": {},
   "outputs": [],
   "source": [
    "y_df= pd.concat([FUND_y_df, PAGE_y_df, DICE_y_df]).reset_index(drop=True)\n",
    "y_df"
   ]
  },
  {
   "cell_type": "code",
   "execution_count": null,
   "metadata": {},
   "outputs": [],
   "source": [
    "y_df_prtp15= y_df[['SCC_1', 'SCC_2', 'SCC_3', 'SCC_4']]\n",
    "y_df_prtp1= y_df[['SCC_5', 'SCC_6', 'SCC_7', 'SCC_8']]\n",
    "y_df_prtp3= y_df[['SCC_9', 'SCC_10', 'SCC_11', 'SCC_12']]"
   ]
  },
  {
   "cell_type": "code",
   "execution_count": null,
   "metadata": {},
   "outputs": [],
   "source": []
  },
  {
   "attachments": {},
   "cell_type": "markdown",
   "metadata": {},
   "source": [
    "### 3. Scaling"
   ]
  },
  {
   "cell_type": "code",
   "execution_count": null,
   "metadata": {},
   "outputs": [],
   "source": [
    "# prtp_name= \"prtp_15\"\n",
    "# y_df_use= y_df_prtp15.copy()\n",
    "\n",
    "# prtp_name= \"prtp_1\"\n",
    "# y_df_use= y_df_prtp1.copy()\n",
    "\n",
    "prtp_name= \"prtp_3\"\n",
    "y_df_use= y_df_prtp3.copy()\n"
   ]
  },
  {
   "cell_type": "code",
   "execution_count": null,
   "metadata": {},
   "outputs": [],
   "source": [
    "len(y_df_prtp1), len(y_df_prtp15)"
   ]
  },
  {
   "cell_type": "code",
   "execution_count": null,
   "metadata": {},
   "outputs": [],
   "source": [
    "import os\n",
    "''' making new directory folder '''\n",
    "def making_dir(dir_name):\n",
    "    # https://thispointer.com/how-to-create-a-directory-in-python/\n",
    "    # Create target Directory if don't exist\n",
    "    if not os.path.exists(dir_name):\n",
    "        os.mkdir(dir_name)\n",
    "        print(\"Directory \" , dir_name ,  \" Created \")\n",
    "    else:    \n",
    "        print(\"Directory \" , dir_name ,  \" already exists\")\n",
    "    \n",
    "    return"
   ]
  },
  {
   "cell_type": "code",
   "execution_count": null,
   "metadata": {},
   "outputs": [],
   "source": [
    "svr_prtp_folder= \"SVR_01_1030_\" + prtp_name\n",
    "\n",
    "making_dir(dir_name= svr_prtp_folder)"
   ]
  },
  {
   "cell_type": "code",
   "execution_count": null,
   "metadata": {},
   "outputs": [],
   "source": [
    "X_df.iloc[:, 1:]"
   ]
  },
  {
   "cell_type": "code",
   "execution_count": null,
   "metadata": {},
   "outputs": [],
   "source": [
    "from sklearn.preprocessing import StandardScaler, MinMaxScaler\n",
    "def scaling_transform(choose_scaler, for_scale, inverse=None, for_inverse=None):\n",
    "    \n",
    "    if choose_scaler == \"minmax\":\n",
    "        scaler = MinMaxScaler()\n",
    "        data_scaled = scaler.fit_transform(for_scale)\n",
    "    else:\n",
    "        scaler = StandardScaler()\n",
    "        data_scaled = scaler.fit_transform(for_scale)\n",
    "\n",
    "\n",
    "    if inverse == 'yes':\n",
    "        data_inverse = scaler.inverse_transform(for_inverse)\n",
    "        return data_inverse\n",
    "    else:\n",
    "        return data_scaled"
   ]
  },
  {
   "cell_type": "code",
   "execution_count": null,
   "metadata": {},
   "outputs": [],
   "source": [
    "scaler= 'minmax'\n",
    "\n",
    "X_scld= scaling_transform(choose_scaler= scaler, for_scale= X_df.iloc[:, 1:])\n",
    "y_scld= scaling_transform(choose_scaler= scaler, for_scale= y_df_use)"
   ]
  },
  {
   "cell_type": "code",
   "execution_count": null,
   "metadata": {},
   "outputs": [],
   "source": [
    "X_scld, X_scld.shape"
   ]
  },
  {
   "cell_type": "code",
   "execution_count": null,
   "metadata": {},
   "outputs": [],
   "source": [
    "y_scld, y_scld.shape"
   ]
  },
  {
   "cell_type": "code",
   "execution_count": null,
   "metadata": {},
   "outputs": [],
   "source": []
  },
  {
   "cell_type": "code",
   "execution_count": null,
   "metadata": {},
   "outputs": [],
   "source": [
    "### add year\n",
    "\n",
    "X_scld_add= np.hstack([X_df.Year.values.reshape(-1,1), X_scld])\n",
    "X_scld_add"
   ]
  },
  {
   "cell_type": "code",
   "execution_count": null,
   "metadata": {},
   "outputs": [],
   "source": [
    "all_index= X_df.index.values\n",
    "all_index"
   ]
  },
  {
   "cell_type": "code",
   "execution_count": null,
   "metadata": {},
   "outputs": [],
   "source": [
    "import random\n",
    "test_index= random.choices(all_index, k= 10)\n",
    "test_index, len(test_index)"
   ]
  },
  {
   "cell_type": "code",
   "execution_count": null,
   "metadata": {},
   "outputs": [],
   "source": [
    "training_index= np.delete(all_index, test_index)\n",
    "training_index, len(training_index)"
   ]
  },
  {
   "cell_type": "code",
   "execution_count": null,
   "metadata": {},
   "outputs": [],
   "source": [
    "X_training_scld= X_scld_add[training_index]\n",
    "X_training_scld\n",
    "\n",
    "y_training_scld= y_scld[training_index]\n",
    "y_training_scld"
   ]
  },
  {
   "cell_type": "code",
   "execution_count": null,
   "metadata": {},
   "outputs": [],
   "source": [
    "X_training_scld_02= np.hstack((training_index.reshape(-1,1), X_training_scld))\n",
    "y_training_scld_02= np.hstack((training_index.reshape(-1,1), y_training_scld))\n"
   ]
  },
  {
   "cell_type": "code",
   "execution_count": null,
   "metadata": {},
   "outputs": [],
   "source": [
    "X_test_scld= X_scld_add[test_index]\n",
    "X_test_scld\n",
    "\n",
    "y_test_scld= y_scld[test_index]\n",
    "y_test_scld"
   ]
  },
  {
   "cell_type": "code",
   "execution_count": null,
   "metadata": {},
   "outputs": [],
   "source": [
    "X_test_scld_02= np.hstack((np.asarray(test_index).reshape(-1,1), X_test_scld))\n",
    "y_test_scld_02= np.hstack((np.asarray(test_index).reshape(-1,1), y_test_scld))\n"
   ]
  },
  {
   "cell_type": "code",
   "execution_count": null,
   "metadata": {},
   "outputs": [],
   "source": [
    "print(X_training_scld_02.shape, y_training_scld_02.shape, \n",
    "      X_test_scld_02.shape, y_test_scld_02.shape)"
   ]
  },
  {
   "cell_type": "code",
   "execution_count": null,
   "metadata": {},
   "outputs": [],
   "source": []
  },
  {
   "attachments": {},
   "cell_type": "markdown",
   "metadata": {},
   "source": [
    "### 4. Split data"
   ]
  },
  {
   "cell_type": "code",
   "execution_count": null,
   "metadata": {},
   "outputs": [],
   "source": [
    "from sklearn.model_selection import train_test_split\n",
    "\n",
    "X_train_scld, X_val_scld, y_train_scld, y_val_scld= train_test_split(X_training_scld_02, y_training_scld_02)"
   ]
  },
  {
   "cell_type": "code",
   "execution_count": null,
   "metadata": {},
   "outputs": [],
   "source": [
    "print(X_train_scld.shape, X_val_scld.shape, y_train_scld.shape, y_val_scld.shape)"
   ]
  },
  {
   "cell_type": "code",
   "execution_count": null,
   "metadata": {},
   "outputs": [],
   "source": [
    "id_train= X_train_scld[:, 0]\n",
    "id_val= X_val_scld[:, 0]\n",
    "id_test= X_test_scld_02[:,0]"
   ]
  },
  {
   "cell_type": "code",
   "execution_count": null,
   "metadata": {},
   "outputs": [],
   "source": [
    "svr_prtp_folder"
   ]
  },
  {
   "cell_type": "code",
   "execution_count": null,
   "metadata": {},
   "outputs": [],
   "source": [
    "np.savetxt(svr_prtp_folder + \"/\" + \"id_train.txt\", id_train)\n",
    "np.savetxt(svr_prtp_folder + \"/\" + \"id_val.txt\", id_val)\n",
    "np.savetxt(svr_prtp_folder + \"/\" + \"id_test.txt\", id_test)"
   ]
  },
  {
   "cell_type": "code",
   "execution_count": null,
   "metadata": {},
   "outputs": [],
   "source": [
    "year_train= X_train_scld[:, 1]\n",
    "year_val= X_val_scld[:, 1]\n",
    "year_test= X_test_scld_02[:,1]"
   ]
  },
  {
   "cell_type": "code",
   "execution_count": null,
   "metadata": {},
   "outputs": [],
   "source": [
    "np.savetxt(svr_prtp_folder + \"/\" + \"X_train.txt\", X_train_scld)\n",
    "np.savetxt(svr_prtp_folder + \"/\" + \"y_train.txt\", y_train_scld)\n",
    "\n",
    "np.savetxt(svr_prtp_folder + \"/\" + \"X_val.txt\", X_val_scld)\n",
    "np.savetxt(svr_prtp_folder + \"/\" + \"y_val.txt\", y_val_scld)\n",
    "\n",
    "np.savetxt(svr_prtp_folder + \"/\" + \"X_test.txt\", X_test_scld)\n",
    "np.savetxt(svr_prtp_folder + \"/\" + \"y_test.txt\", y_test_scld)"
   ]
  },
  {
   "cell_type": "code",
   "execution_count": null,
   "metadata": {},
   "outputs": [],
   "source": [
    "y_df"
   ]
  },
  {
   "cell_type": "code",
   "execution_count": null,
   "metadata": {},
   "outputs": [],
   "source": [
    "X_df"
   ]
  },
  {
   "cell_type": "code",
   "execution_count": null,
   "metadata": {},
   "outputs": [],
   "source": [
    "y_df"
   ]
  },
  {
   "cell_type": "code",
   "execution_count": null,
   "metadata": {},
   "outputs": [],
   "source": [
    "y_df.columns"
   ]
  },
  {
   "cell_type": "code",
   "execution_count": null,
   "metadata": {},
   "outputs": [],
   "source": [
    "y_df_year= pd.concat([y_df, X_df['Year']], axis=1)\n",
    "y_df_year.columns"
   ]
  },
  {
   "cell_type": "code",
   "execution_count": null,
   "metadata": {},
   "outputs": [],
   "source": [
    "y_df_year"
   ]
  },
  {
   "cell_type": "code",
   "execution_count": null,
   "metadata": {},
   "outputs": [],
   "source": [
    "X_train= X_df.iloc[id_train]\n",
    "y_train= y_df_use.iloc[id_train]\n",
    "X_train"
   ]
  },
  {
   "cell_type": "code",
   "execution_count": null,
   "metadata": {},
   "outputs": [],
   "source": [
    "X_val= X_df.iloc[id_val]\n",
    "y_val= y_df_use.iloc[id_val]\n",
    "X_val"
   ]
  },
  {
   "cell_type": "code",
   "execution_count": null,
   "metadata": {},
   "outputs": [],
   "source": [
    "X_test= X_df.iloc[id_test]\n",
    "y_test= y_df_use.iloc[id_test]\n",
    "X_test"
   ]
  },
  {
   "cell_type": "code",
   "execution_count": null,
   "metadata": {},
   "outputs": [],
   "source": [
    "X_train.to_csv(svr_prtp_folder + \"/\" + \"X_train_df_actual.csv\")\n",
    "y_train.to_csv(svr_prtp_folder + \"/\" + \"y_train_df_actual.csv\")\n",
    "\n",
    "X_val.to_csv(svr_prtp_folder + \"/\" + \"X_val_df_actual.csv\")\n",
    "y_val.to_csv(svr_prtp_folder + \"/\" + \"y_val_df_actual.csv\")\n",
    "\n",
    "X_test.to_csv(svr_prtp_folder + \"/\" + \"X_test_df_actual.csv\")\n",
    "y_test.to_csv(svr_prtp_folder + \"/\" + \"y_test_df_actual.csv\")"
   ]
  },
  {
   "cell_type": "code",
   "execution_count": null,
   "metadata": {},
   "outputs": [],
   "source": []
  },
  {
   "attachments": {},
   "cell_type": "markdown",
   "metadata": {},
   "source": [
    "### 5. SVR"
   ]
  },
  {
   "cell_type": "code",
   "execution_count": null,
   "metadata": {},
   "outputs": [],
   "source": [
    "def hyperparam_list(C_max=50, C_ival=1, epsgam_max=10, epsgam_ival=1):\n",
    "    # start_list = np.arange(0, 10, 0.5)\n",
    "    # b = [0.1**x for x in start_list]\n",
    "\n",
    "    # print(start_list)\n",
    "    # print(b)\n",
    "\n",
    "    C_list = np.arange(1, C_max, C_ival)\n",
    "    print(C_list)\n",
    "    print(C_list.shape)\n",
    "\n",
    "    start_list = np.arange(0, epsgam_max, epsgam_ival)\n",
    "    eps_list = np.array([0.1**x for x in start_list])\n",
    "    print(eps_list)\n",
    "    print(eps_list.shape)\n",
    "\n",
    "    # gam_list = np.arange(0.1, 10, 0.1)\n",
    "    gam_list = np.array([0.1**x for x in start_list])\n",
    "    print(gam_list)\n",
    "    print(gam_list.shape)\n",
    "    return C_list, eps_list, gam_list"
   ]
  },
  {
   "cell_type": "code",
   "execution_count": null,
   "metadata": {},
   "outputs": [],
   "source": [
    "\"\"\" Create list of hyperparameter C, epsilon, gamma \"\"\"\n",
    "\n",
    "C_list, eps_list, gam_list= hyperparam_list()"
   ]
  },
  {
   "cell_type": "code",
   "execution_count": null,
   "metadata": {},
   "outputs": [],
   "source": [
    "add_name= \"_shuffle_1030_3iams_\" + prtp_name\n",
    "add_name"
   ]
  },
  {
   "cell_type": "code",
   "execution_count": null,
   "metadata": {},
   "outputs": [],
   "source": [
    "from datetime import datetime\n",
    "start_time = datetime.now()\n",
    "\n",
    "np.random.seed(42)\n",
    "\n",
    "\n",
    "\n",
    "tuning_df= svr_IAM.fine_tune_SVR(C_list= C_list,\n",
    "                                 eps_list= eps_list,\n",
    "                                 gam_list= gam_list,\n",
    "                                 X_train= X_train_scld[:, 2:],\n",
    "                                 y_train= y_train_scld[:, 1:],\n",
    "                                 X_val= X_val_scld[:, 2:],\n",
    "                                 y_val= y_val_scld[:, 1:],\n",
    "                                 SVR_folder= svr_prtp_folder,\n",
    "                                 add_name= add_name)\n",
    "\n",
    "\n",
    "end_time = datetime.now()\n",
    "print('Duration: {}'.format(end_time - start_time))"
   ]
  },
  {
   "cell_type": "code",
   "execution_count": null,
   "metadata": {},
   "outputs": [],
   "source": []
  },
  {
   "cell_type": "code",
   "execution_count": null,
   "metadata": {},
   "outputs": [],
   "source": [
    "rmse_param= svr_IAM.best_param_use(results_df= tuning_df,\n",
    "                                   train_size= len(X_train_scld),\n",
    "                                   val_size= len(X_val_scld),\n",
    "                                   scaled_info= scaler + \"_scale\",\n",
    "                                   SVR_folder= svr_prtp_folder,\n",
    "                                   add_name= add_name,\n",
    "                                   use_param='RMSE_val',\n",
    "                                   )"
   ]
  },
  {
   "cell_type": "code",
   "execution_count": null,
   "metadata": {},
   "outputs": [],
   "source": []
  },
  {
   "cell_type": "code",
   "execution_count": null,
   "metadata": {},
   "outputs": [],
   "source": [
    "add_name"
   ]
  },
  {
   "cell_type": "code",
   "execution_count": null,
   "metadata": {},
   "outputs": [],
   "source": [
    "y_train_pred, y_val_pred= svr_IAM.train_SVR(all_best= rmse_param,\n",
    "                                            X_train= X_train_scld[:, 2:],\n",
    "                                            y_train= y_train_scld[:, 1:],\n",
    "                                            X_val= X_val_scld[:, 2:],\n",
    "                                            SVR_folder= svr_prtp_folder,\n",
    "                                            add_name= add_name\n",
    "                                            )"
   ]
  },
  {
   "cell_type": "code",
   "execution_count": null,
   "metadata": {},
   "outputs": [],
   "source": [
    "np.savetxt(svr_prtp_folder + \"/\" + \"y_train_pred_scld.txt\", y_train_pred)\n",
    "np.savetxt(svr_prtp_folder + \"/\" + \"y_val_pred_scld.txt\", y_val_pred)"
   ]
  },
  {
   "cell_type": "code",
   "execution_count": null,
   "metadata": {},
   "outputs": [],
   "source": [
    "\"\"\" RMSE \"\"\"\n",
    "\n",
    "train_rmse = svr_IAM.RMSE_calc(actual= y_train_scld[:, 1:], \n",
    "                               prediction= y_train_pred)\n",
    "val_rmse = svr_IAM.RMSE_calc(actual= y_val_scld[:, 1:], \n",
    "                             prediction= y_val_pred)\n",
    "\n",
    "train_r2 = svr_IAM.r2_calc(actual= y_train_scld[:, 1:], prediction= y_train_pred)\n",
    "val_r2 = svr_IAM.r2_calc(actual= y_val_scld[:, 1:], prediction= y_val_pred)\n",
    "\n",
    "\n",
    "print(train_rmse, val_rmse)\n",
    "print(train_r2, val_r2)"
   ]
  },
  {
   "cell_type": "code",
   "execution_count": null,
   "metadata": {},
   "outputs": [],
   "source": [
    "cl_list = [\"gold\", \"orange\", \"saddlebrown\",\n",
    "            \"skyblue\", \"royalblue\", \"midnightblue\",\n",
    "            \"plum\", \"darkmagenta\",  \"darkviolet\"\n",
    "            ]"
   ]
  },
  {
   "cell_type": "code",
   "execution_count": null,
   "metadata": {},
   "outputs": [],
   "source": [
    "scc_col_name_ls= y_df.columns\n",
    "scc_col_name_ls"
   ]
  },
  {
   "cell_type": "code",
   "execution_count": null,
   "metadata": {},
   "outputs": [],
   "source": [
    "def plot_pred_actual(year, y_actual, y_pred, title,\n",
    "                     y_label= \" \", ymin=None, ymax=None, legend_loc= \"upper left\",\n",
    "                     save=False, savename=None, ncol=1, s=10,\n",
    "                     W= 10, H=7, fs=25, pad=15):\n",
    "\n",
    "    plt.figure(figsize=(W,H))\n",
    "\n",
    "    plt.plot(year, y_actual, marker=\"o\", markersize=s, linestyle=\"None\", label= \"Actual\")\n",
    "    plt.plot(year, y_pred, marker=\"^\", markersize=s-2, linestyle=\"None\", label= \"Prediction\")\n",
    "\n",
    "    plt.title(title, fontsize=fs, pad=pad)\n",
    "\n",
    "    plt.xlabel(\"Year\", fontsize= fs-5)\n",
    "    plt.ylabel(y_label, fontsize= fs-5)\n",
    "    plt.ylim(ymin, ymax)\n",
    "    plt.tick_params(\"both\", labelsize=fs-5)\n",
    "\n",
    "    plt.legend(fontsize= fs-5, ncol=ncol, loc=legend_loc)\n",
    "    plt.tight_layout()\n",
    "\n",
    "    if save == True:\n",
    "        plt.savefig(savename + \".png\", bbox_inches=\"tight\")\n",
    "\n",
    "    plt.show()"
   ]
  },
  {
   "cell_type": "code",
   "execution_count": null,
   "metadata": {},
   "outputs": [],
   "source": [
    "len(fund_data)"
   ]
  },
  {
   "cell_type": "code",
   "execution_count": null,
   "metadata": {},
   "outputs": [],
   "source": [
    "len(X_df)"
   ]
  },
  {
   "cell_type": "code",
   "execution_count": null,
   "metadata": {},
   "outputs": [],
   "source": [
    "y_train_scld[:, 0]"
   ]
  },
  {
   "cell_type": "code",
   "execution_count": null,
   "metadata": {},
   "outputs": [],
   "source": [
    "fund_id_train= np.where(y_train_scld[:, 0] < len(fund_data_use))\n",
    "fund_id_val= np.where(y_val_scld[:, 0] < len(fund_data_use))"
   ]
  },
  {
   "cell_type": "code",
   "execution_count": null,
   "metadata": {},
   "outputs": [],
   "source": [
    "fund_id_train"
   ]
  },
  {
   "cell_type": "code",
   "execution_count": null,
   "metadata": {},
   "outputs": [],
   "source": [
    "y_train_scld[fund_id_train].shape"
   ]
  },
  {
   "cell_type": "code",
   "execution_count": null,
   "metadata": {},
   "outputs": [],
   "source": [
    "n= 2\n",
    "\n",
    "plot_pred_actual(year= X_train_scld[fund_id_train][:, 1], \n",
    "                 y_actual= y_train_scld[fund_id_train][:, n],\n",
    "                 y_pred= y_train_pred[fund_id_train][:, n-1],\n",
    "                 title= \"Prediction for train \",\n",
    "                 save=True,\n",
    "                 savename= svr_prtp_folder + \"/\" + \"pred_train_scld_\" + scc_col_name_ls[n]\n",
    "                 )"
   ]
  },
  {
   "cell_type": "code",
   "execution_count": null,
   "metadata": {},
   "outputs": [],
   "source": [
    "len(page_data)"
   ]
  },
  {
   "cell_type": "code",
   "execution_count": null,
   "metadata": {},
   "outputs": [],
   "source": [
    "len(fund_data_use)"
   ]
  },
  {
   "cell_type": "code",
   "execution_count": null,
   "metadata": {},
   "outputs": [],
   "source": [
    "len(page_data_current)"
   ]
  },
  {
   "cell_type": "code",
   "execution_count": null,
   "metadata": {},
   "outputs": [],
   "source": [
    "page_id_train= np.where((y_train_scld[:, 0] >= len(fund_data_use)) & (y_train_scld[:, 0] < len(fund_data_use)*2))\n",
    "page_id_val= np.where((y_val_scld[:, 0] >= len(fund_data_use)) & (y_val_scld[:, 0] < len(fund_data_use)*2))"
   ]
  },
  {
   "cell_type": "code",
   "execution_count": null,
   "metadata": {},
   "outputs": [],
   "source": [
    "# page_id_train= np.where(y_train_scld[:, 0] >= len(fund_data_use))\n",
    "# page_id_val= np.where(y_val_scld[:, 0] >= len(fund_data_use))"
   ]
  },
  {
   "cell_type": "code",
   "execution_count": null,
   "metadata": {},
   "outputs": [],
   "source": [
    "n= 1\n",
    "\n",
    "plot_pred_actual(year= X_train_scld[page_id_train][:, 1], \n",
    "                 y_actual= y_train_scld[page_id_train][:, n],\n",
    "                 y_pred= y_train_pred[page_id_train][:, n-1],\n",
    "                 title= \"Prediction for train \",\n",
    "                 save=True,\n",
    "                 savename= svr_prtp_folder + \"/\" + \"pred_train_scld_\" + scc_col_name_ls[n]\n",
    "                 )"
   ]
  },
  {
   "cell_type": "code",
   "execution_count": null,
   "metadata": {},
   "outputs": [],
   "source": []
  },
  {
   "cell_type": "code",
   "execution_count": null,
   "metadata": {},
   "outputs": [],
   "source": [
    "dice_id_train= np.where((y_train_scld[:, 0] >= len(fund_data_use)*2))\n",
    "dice_id_val= np.where((y_val_scld[:, 0] >= len(fund_data_use)*2))"
   ]
  },
  {
   "cell_type": "code",
   "execution_count": null,
   "metadata": {},
   "outputs": [],
   "source": [
    "n= 1\n",
    "\n",
    "plot_pred_actual(year= X_train_scld[dice_id_train][:, 1], \n",
    "                 y_actual= y_train_scld[dice_id_train][:, n],\n",
    "                 y_pred= y_train_pred[dice_id_train][:, n-1],\n",
    "                 title= \"Prediction for train \",\n",
    "                 save=True,\n",
    "                 savename= svr_prtp_folder + \"/\" + \"pred_train_scld_\" + scc_col_name_ls[n]\n",
    "                 )"
   ]
  },
  {
   "cell_type": "code",
   "execution_count": null,
   "metadata": {},
   "outputs": [],
   "source": []
  },
  {
   "cell_type": "code",
   "execution_count": null,
   "metadata": {},
   "outputs": [],
   "source": []
  },
  {
   "cell_type": "code",
   "execution_count": null,
   "metadata": {},
   "outputs": [],
   "source": []
  },
  {
   "cell_type": "code",
   "execution_count": null,
   "metadata": {},
   "outputs": [],
   "source": [
    "y_train_inv = svr_IAM.scaling_transform(choose_scaler= scaler,\n",
    "                                        for_scale= y_df_use,\n",
    "                                        inverse='yes',\n",
    "                                        for_inverse= y_train_scld[:, 1:])\n",
    "\n",
    "\n",
    "y_val_inv = svr_IAM.scaling_transform(choose_scaler= scaler,\n",
    "                                      for_scale= y_df_use,\n",
    "                                      inverse='yes',\n",
    "                                      for_inverse= y_val_scld[:, 1:])\n",
    "\n",
    "\n",
    "y_train_pred_inv = svr_IAM.scaling_transform(choose_scaler= scaler,\n",
    "                                            for_scale= y_df_use,\n",
    "                                            inverse='yes',\n",
    "                                            for_inverse= y_train_pred)\n",
    "\n",
    "\n",
    "y_val_pred_inv = svr_IAM.scaling_transform(choose_scaler= scaler,\n",
    "                                           for_scale= y_df_use,\n",
    "                                           inverse='yes',\n",
    "                                           for_inverse= y_val_pred)\n"
   ]
  },
  {
   "cell_type": "code",
   "execution_count": null,
   "metadata": {},
   "outputs": [],
   "source": [
    "np.savetxt(svr_prtp_folder + \"/\" + \"y_train_pred_inv.txt\", y_train_pred_inv)\n",
    "np.savetxt(svr_prtp_folder + \"/\" + \"y_val_pred_inv.txt\", y_val_pred_inv)"
   ]
  },
  {
   "cell_type": "code",
   "execution_count": null,
   "metadata": {},
   "outputs": [],
   "source": [
    "n= 1\n",
    "\n",
    "plot_pred_actual(year= X_train_scld[fund_id_train][:, 1], \n",
    "                 y_actual= y_train.iloc[fund_id_train].iloc[:, n-1],\n",
    "                 y_pred= y_train_pred_inv[fund_id_train][:, n-1],\n",
    "                 title= \"Prediction for train \",\n",
    "                 save=True,\n",
    "                 savename= svr_prtp_folder + \"/\" + \"pred_train_scld_\" + scc_col_name_ls[n]\n",
    "                 )"
   ]
  },
  {
   "cell_type": "code",
   "execution_count": null,
   "metadata": {},
   "outputs": [],
   "source": []
  },
  {
   "attachments": {},
   "cell_type": "markdown",
   "metadata": {},
   "source": [
    "### 6. Load model and prediction test data"
   ]
  },
  {
   "cell_type": "code",
   "execution_count": null,
   "metadata": {},
   "outputs": [],
   "source": [
    "import joblib"
   ]
  },
  {
   "cell_type": "code",
   "execution_count": null,
   "metadata": {},
   "outputs": [],
   "source": [
    "\"\"\" LOAD MODEL \"\"\"\n",
    "\n",
    "model= joblib.load(svr_prtp_folder + \"/\" + add_name + \"_SVR_model.pkl\")"
   ]
  },
  {
   "cell_type": "code",
   "execution_count": null,
   "metadata": {},
   "outputs": [],
   "source": [
    "y_test_pred= model.predict(X_test_scld[:, 1:])"
   ]
  },
  {
   "cell_type": "code",
   "execution_count": null,
   "metadata": {},
   "outputs": [],
   "source": [
    "y_test_inv = svr_IAM.scaling_transform(choose_scaler= scaler,\n",
    "                                        for_scale= y_df_use,\n",
    "                                        inverse='yes',\n",
    "                                        for_inverse= y_test_scld)\n",
    "                                        \n",
    "y_test_pred_inv = svr_IAM.scaling_transform(choose_scaler= scaler,\n",
    "                                            for_scale= y_df_use,\n",
    "                                            inverse='yes',\n",
    "                                            for_inverse= y_test_pred)"
   ]
  },
  {
   "cell_type": "code",
   "execution_count": null,
   "metadata": {},
   "outputs": [],
   "source": [
    "np.savetxt(svr_prtp_folder + \"/\" + \"y_test_pred_scld.txt\", y_test_pred)\n",
    "np.savetxt(svr_prtp_folder + \"/\" + \"y_test_pred_inv.txt\", y_test_pred_inv)"
   ]
  },
  {
   "cell_type": "code",
   "execution_count": null,
   "metadata": {},
   "outputs": [],
   "source": [
    "\"\"\" RMSE \"\"\"\n",
    "\n",
    "test_rmse = svr_IAM.RMSE_calc(actual= y_test_scld, prediction= y_test_pred)\n",
    "print(test_rmse)\n",
    "\n",
    "\n",
    "\n",
    "\"\"\" R2 \"\"\"\n",
    "\n",
    "test_r2 = svr_IAM.r2_calc(actual= y_test_scld, prediction= y_test_pred)\n",
    "print(test_r2)\n",
    "\n",
    "# \"\"\" MAPE \"\"\"\n",
    "\n",
    "# test_mape = svr_IAM.MAPE_calc(actual= y_test_scld, prediction= y_test_pred)\n",
    "# print(test_mape)"
   ]
  },
  {
   "cell_type": "code",
   "execution_count": null,
   "metadata": {},
   "outputs": [],
   "source": [
    "eval_metric_df= pd.DataFrame({\"Data\": [\"train\", 'val', 'test'],\n",
    "                              \"RMSE\": [train_rmse, val_rmse, test_rmse],\n",
    "                              \"R2\": [train_r2, val_r2, test_r2]})\n",
    "\n",
    "eval_metric_df"
   ]
  },
  {
   "cell_type": "code",
   "execution_count": null,
   "metadata": {},
   "outputs": [],
   "source": [
    "# test_rmse_r2_df= pd.DataFrame({'RMSE': [test_rmse], 'R2': [test_r2]})\n",
    "# test_rmse_r2_df"
   ]
  },
  {
   "cell_type": "code",
   "execution_count": null,
   "metadata": {},
   "outputs": [],
   "source": [
    "# test_rmse_r2_df.to_csv(svr_prtp_folder + \"/\" + \"test_rmse_r2.csv\")"
   ]
  },
  {
   "cell_type": "code",
   "execution_count": null,
   "metadata": {},
   "outputs": [],
   "source": [
    "eval_metric_df.to_csv(svr_prtp_folder + \"/\" + \"eval_metric_train_val_test.csv\")"
   ]
  },
  {
   "cell_type": "code",
   "execution_count": null,
   "metadata": {},
   "outputs": [],
   "source": []
  },
  {
   "cell_type": "code",
   "execution_count": null,
   "metadata": {},
   "outputs": [],
   "source": [
    "n=0\n",
    "\n",
    "plot_pred_actual(year= year_test, \n",
    "                 y_actual= y_test.iloc[:, n],\n",
    "                 y_pred= y_test_pred_inv[:, n],\n",
    "                 y_label= \"Current \" + \"$ USD/t CO_2$\",\n",
    "                 title= \"Prediction for test \" + scc_col_name_ls[n],\n",
    "                 save=True,\n",
    "                 savename= svr_prtp_folder + \"/\" + \"pred_test_inv_\" + scc_col_name_ls[n])"
   ]
  },
  {
   "cell_type": "code",
   "execution_count": null,
   "metadata": {},
   "outputs": [],
   "source": [
    "pred_inv_combine= np.vstack([y_train_pred_inv, y_val_pred_inv, y_test_pred_inv])\n",
    "pred_inv_combine.shape"
   ]
  },
  {
   "cell_type": "code",
   "execution_count": null,
   "metadata": {},
   "outputs": [],
   "source": [
    "index_all= np.vstack([id_train.reshape(-1,1), id_val.reshape(-1,1), id_test.reshape(-1,1)])"
   ]
  },
  {
   "cell_type": "code",
   "execution_count": null,
   "metadata": {},
   "outputs": [],
   "source": [
    "year_all= np.hstack([year_train, year_val, year_test])\n",
    "year_all"
   ]
  },
  {
   "cell_type": "code",
   "execution_count": null,
   "metadata": {},
   "outputs": [],
   "source": [
    "pred_inv_combine_df= pd.concat([pd.DataFrame(data= index_all, columns= [\"ID\"]),\n",
    "                                pd.DataFrame(data= year_all, columns= [\"Year\"]),\n",
    "                                pd.DataFrame(data= pred_inv_combine, columns= y_df_use.columns)], axis=1).sort_values(by=[\"ID\"]).reset_index(drop=True)\n"
   ]
  },
  {
   "cell_type": "code",
   "execution_count": null,
   "metadata": {},
   "outputs": [],
   "source": [
    "pred_inv_combine_df"
   ]
  },
  {
   "cell_type": "code",
   "execution_count": null,
   "metadata": {},
   "outputs": [],
   "source": [
    "fund_data_pred_inv= pred_inv_combine_df.iloc[:len(fund_data_use)]\n",
    "fund_data_pred_inv"
   ]
  },
  {
   "cell_type": "code",
   "execution_count": null,
   "metadata": {},
   "outputs": [],
   "source": []
  },
  {
   "cell_type": "code",
   "execution_count": null,
   "metadata": {},
   "outputs": [],
   "source": []
  },
  {
   "cell_type": "markdown",
   "metadata": {},
   "source": [
    "### Plotting"
   ]
  },
  {
   "cell_type": "code",
   "execution_count": null,
   "metadata": {},
   "outputs": [],
   "source": [
    "col_use= 'SCC_12'\n",
    "plt.plot(fund_data_pred_inv['Year'], fund_data_pred_inv[col_use], \n",
    "         marker=\"o\", markersize=10, linestyle=\"None\", label= \"Prediction\")\n",
    "\n",
    "plt.plot(fund_data_pred_inv['Year'], FUND_y_df[col_use], \n",
    "         marker=\"^\" , markersize=10, linestyle=\"None\", label= \"Actual\")\n",
    "\n",
    "plt.legend()"
   ]
  },
  {
   "cell_type": "code",
   "execution_count": null,
   "metadata": {},
   "outputs": [],
   "source": [
    "fund_data_pred_inv.to_csv(svr_prtp_folder + \"/\" + \"fund_data_pred_inv_all.csv\")"
   ]
  },
  {
   "cell_type": "code",
   "execution_count": null,
   "metadata": {},
   "outputs": [],
   "source": []
  },
  {
   "cell_type": "code",
   "execution_count": null,
   "metadata": {},
   "outputs": [],
   "source": [
    "page_data_pred_inv= pred_inv_combine_df.iloc[len(fund_data_use):len(fund_data_use)*2]\n",
    "page_data_pred_inv, page_data_pred_inv.shape"
   ]
  },
  {
   "cell_type": "code",
   "execution_count": null,
   "metadata": {},
   "outputs": [],
   "source": [
    "col_use= 'SCC_12'\n",
    "plt.plot(page_data_pred_inv['Year'], page_data_pred_inv[col_use], \n",
    "         marker=\"o\", markersize=10, linestyle=\"None\", label= \"Prediction\")\n",
    "\n",
    "plt.plot(page_data_pred_inv['Year'], PAGE_y_df[col_use], \n",
    "         marker=\"^\" , markersize=10, linestyle=\"None\", label= \"Actual\")\n",
    "\n",
    "plt.legend()"
   ]
  },
  {
   "cell_type": "code",
   "execution_count": null,
   "metadata": {},
   "outputs": [],
   "source": [
    "page_data_pred_inv"
   ]
  },
  {
   "cell_type": "code",
   "execution_count": null,
   "metadata": {},
   "outputs": [],
   "source": [
    "page_data_pred_inv.to_csv(svr_prtp_folder + \"/\" + \"page_data_pred_inv_all.csv\")"
   ]
  },
  {
   "cell_type": "code",
   "execution_count": null,
   "metadata": {},
   "outputs": [],
   "source": []
  },
  {
   "cell_type": "code",
   "execution_count": null,
   "metadata": {},
   "outputs": [],
   "source": [
    "dice_data_pred_inv= pred_inv_combine_df.iloc[len(fund_data_use)*2:len(fund_data_use)*3]\n",
    "dice_data_pred_inv, dice_data_pred_inv.shape"
   ]
  },
  {
   "cell_type": "code",
   "execution_count": null,
   "metadata": {},
   "outputs": [],
   "source": [
    "col_use= 'SCC_12'\n",
    "plt.plot(dice_data_pred_inv['Year'], dice_data_pred_inv[col_use], \n",
    "         marker=\"o\", markersize=10, linestyle=\"None\", label= \"Prediction\")\n",
    "\n",
    "plt.plot(dice_data_pred_inv['Year'], DICE_y_df[col_use], \n",
    "         marker=\"^\" , markersize=10, linestyle=\"None\", label= \"Actual\")\n",
    "\n",
    "plt.legend()"
   ]
  },
  {
   "cell_type": "code",
   "execution_count": null,
   "metadata": {},
   "outputs": [],
   "source": []
  },
  {
   "cell_type": "code",
   "execution_count": null,
   "metadata": {},
   "outputs": [],
   "source": []
  },
  {
   "cell_type": "code",
   "execution_count": null,
   "metadata": {},
   "outputs": [],
   "source": []
  },
  {
   "cell_type": "code",
   "execution_count": null,
   "metadata": {},
   "outputs": [],
   "source": [
    "def plot_compare_final(col_use, pred_inv_data, actual_y_data, \n",
    "                       title, y_label= \" \", ymin=None, ymax=None, \n",
    "                       legend_loc= \"upper left\",\n",
    "                       save=False, savename=None, ncol=1, s=10,\n",
    "                       L=7, H=5, fs=20, pad=7):\n",
    "    \n",
    "    plt.figure(figsize=(L,H))\n",
    "    plt.plot(pred_inv_data['Year'], actual_y_data[col_use], \n",
    "             marker=\"^\" , markersize=10, linestyle=\"None\", label= \"Actual\", color= \"lightgreen\")\n",
    "    plt.plot(pred_inv_data['Year'], pred_inv_data[col_use], \n",
    "             marker=\"o\", markersize=10, linestyle=\"None\", label= \"Prediction\", color= \"lightblue\")\n",
    "\n",
    "\n",
    "    plt.title(title, fontsize=fs, pad=pad)\n",
    "\n",
    "    plt.xlabel(\"Year\", fontsize= fs-5)\n",
    "    plt.ylabel(y_label, fontsize= fs-5)\n",
    "    plt.ylim(ymin, ymax)\n",
    "    plt.tick_params(\"both\", labelsize=fs-5)\n",
    "\n",
    "    plt.legend(fontsize= fs-5, ncol=ncol, loc=legend_loc)\n",
    "    plt.tight_layout()\n",
    "\n",
    "    if save == True:\n",
    "        plt.savefig(savename + \".png\", bbox_inches=\"tight\", dpi=600)\n",
    "\n",
    "    plt.show()\n"
   ]
  },
  {
   "cell_type": "code",
   "execution_count": null,
   "metadata": {},
   "outputs": [],
   "source": [
    "def plot_compare_final_2(col_use_list, pred_inv_data, actual_y_data, \n",
    "                       title, marker_list, \n",
    "                       y_label= \" \", ymin=None, ymax=None, \n",
    "                       legend_loc= \"upper left\", bbox_loc= (1.1,1),\n",
    "                       save=False, savename=None, ncol=1,\n",
    "                       L=7, H=5, fs=20, pad=7):\n",
    "    \n",
    "    plt.figure(figsize=(L,H))\n",
    "\n",
    "    for i in range(len(col_use_list)):\n",
    "        plt.plot(pred_inv_data['Year'], actual_y_data[col_use_list[i]], \n",
    "                 marker=marker_list[i] , markersize=10, color= \"lightgreen\",\n",
    "                 linestyle=\"None\", label= \"Actual:\" + col_use_list[i])\n",
    "                \n",
    "        plt.plot(pred_inv_data['Year'], pred_inv_data[col_use_list[i]], \n",
    "                 marker=marker_list[i], markersize=10, color= \"lightblue\",\n",
    "                 linestyle=\"None\", label= \"Prediction: \" + col_use_list[i])\n",
    "\n",
    "        \n",
    "\n",
    "\n",
    "    plt.title(title, fontsize=fs, pad=pad)\n",
    "\n",
    "    plt.xlabel(\"Year\", fontsize= fs-5)\n",
    "    plt.ylabel(y_label, fontsize= fs-5)\n",
    "    plt.ylim(ymin, ymax)\n",
    "    plt.tick_params(\"both\", labelsize=fs-5)\n",
    "\n",
    "    plt.legend(fontsize= fs-7, ncol=ncol, loc=legend_loc, bbox_to_anchor=bbox_loc)\n",
    "    plt.tight_layout()\n",
    "\n",
    "    if save == True:\n",
    "        plt.savefig(savename + \".png\", bbox_inches=\"tight\", dpi=600)\n",
    "\n",
    "    plt.show()\n"
   ]
  },
  {
   "cell_type": "code",
   "execution_count": null,
   "metadata": {},
   "outputs": [],
   "source": [
    "col_use_list= page_data_pred_inv.columns[-4:]\n",
    "col_use_list\n",
    "\n",
    "marker_list= [\"o\", \"v\", \"s\", \"X\"]\n",
    "\n",
    "# plt.rcParams[\"font.family\"] = \"Arial Unicode MS\"\n",
    "plt.rcParams[\"font.family\"] = \"DejaVu Sans\"\n",
    "\n",
    "y_label= \"USD2022/tCO\" + \"\\u2082\"\n",
    "y_label"
   ]
  },
  {
   "cell_type": "code",
   "execution_count": null,
   "metadata": {},
   "outputs": [],
   "source": [
    "svr_prtp_folder"
   ]
  },
  {
   "cell_type": "code",
   "execution_count": null,
   "metadata": {},
   "outputs": [],
   "source": [
    "for col_use in col_use_list:\n",
    "    plot_compare_final(col_use= col_use, \n",
    "                       pred_inv_data= page_data_pred_inv, \n",
    "                       actual_y_data= PAGE_y_df, \n",
    "                       title= \"PAGE - \" + col_use, \n",
    "                       y_label= y_label, \n",
    "                       ymin=None, ymax=None, \n",
    "                       legend_loc= \"upper left\",\n",
    "                       save=True, \n",
    "                       savename= svr_prtp_folder + \"/\" + \"pred_actual_PAGE_\" + prtp_name + \"_\" + col_use)"
   ]
  },
  {
   "cell_type": "code",
   "execution_count": null,
   "metadata": {},
   "outputs": [],
   "source": [
    "for col_use in col_use_list:\n",
    "    plot_compare_final(col_use= col_use, \n",
    "                       pred_inv_data= fund_data_pred_inv, \n",
    "                       actual_y_data= FUND_y_df, \n",
    "                       title= \"FUND - \" + col_use, \n",
    "                       y_label= y_label, \n",
    "                       ymin=None, ymax=None, \n",
    "                       legend_loc= \"upper left\",\n",
    "                       save=True, \n",
    "                       savename= svr_prtp_folder + \"/\" + \"pred_actual_FUND_\" + prtp_name + \"_\" + col_use)"
   ]
  },
  {
   "cell_type": "code",
   "execution_count": null,
   "metadata": {},
   "outputs": [],
   "source": [
    "for col_use in col_use_list:\n",
    "    plot_compare_final(col_use= col_use, \n",
    "                       pred_inv_data= dice_data_pred_inv, \n",
    "                       actual_y_data= DICE_y_df, \n",
    "                       title= \"DICE - \" + col_use, \n",
    "                       y_label= y_label, \n",
    "                       ymin=None, ymax=None, \n",
    "                       legend_loc= \"upper left\",\n",
    "                       save=True, \n",
    "                       savename= svr_prtp_folder + \"/\" + \"pred_actual_DICE_\" + prtp_name + \"_\" + col_use)"
   ]
  },
  {
   "cell_type": "code",
   "execution_count": null,
   "metadata": {},
   "outputs": [],
   "source": []
  },
  {
   "cell_type": "code",
   "execution_count": null,
   "metadata": {},
   "outputs": [],
   "source": []
  },
  {
   "cell_type": "code",
   "execution_count": null,
   "metadata": {},
   "outputs": [],
   "source": []
  },
  {
   "cell_type": "code",
   "execution_count": null,
   "metadata": {},
   "outputs": [],
   "source": []
  },
  {
   "cell_type": "code",
   "execution_count": null,
   "metadata": {},
   "outputs": [],
   "source": [
    "plot_compare_final_2(col_use_list= col_use_list, \n",
    "                    pred_inv_data= page_data_pred_inv, \n",
    "                    actual_y_data= PAGE_y_df, \n",
    "                    title= \"PAGE - \" + prtp_name, \n",
    "                    marker_list= marker_list,\n",
    "                    y_label= y_label, \n",
    "                    bbox_loc= (0.2, -0.1),\n",
    "                    ncol=2,\n",
    "                    L= 10, H= 8,\n",
    "                    ymin=None, ymax=None, \n",
    "                    legend_loc= \"upper left\",\n",
    "                    save=True, \n",
    "                    savename=svr_prtp_folder + \"/\" + \"pred_actual_PAGE_\" + prtp_name + \"_all\")"
   ]
  },
  {
   "cell_type": "code",
   "execution_count": null,
   "metadata": {},
   "outputs": [],
   "source": [
    "plot_compare_final_2(col_use_list= col_use_list, \n",
    "                    pred_inv_data= fund_data_pred_inv, \n",
    "                    actual_y_data= FUND_y_df, \n",
    "                    title= \"FUND - \" + prtp_name, \n",
    "                    marker_list= marker_list,\n",
    "                    y_label= y_label, \n",
    "                    bbox_loc= (0.2, -0.1),\n",
    "                    ncol=2,\n",
    "                    L= 10, H= 8,\n",
    "                    ymin=None, ymax=None, \n",
    "                    legend_loc= \"upper left\",\n",
    "                    save=True, \n",
    "                    savename=svr_prtp_folder + \"/\" + \"pred_actual_FUND_\" + prtp_name + \"_all\")"
   ]
  },
  {
   "cell_type": "code",
   "execution_count": null,
   "metadata": {},
   "outputs": [],
   "source": [
    "plot_compare_final_2(col_use_list= col_use_list, \n",
    "                    pred_inv_data= dice_data_pred_inv, \n",
    "                    actual_y_data= DICE_y_df, \n",
    "                    title= \"DICE - \" + prtp_name, \n",
    "                    marker_list= marker_list,\n",
    "                    y_label= y_label, \n",
    "                    bbox_loc= (0.2, -0.1),\n",
    "                    ncol=2,\n",
    "                    L= 10, H= 8,\n",
    "                    ymin=None, ymax=None, \n",
    "                    legend_loc= \"upper left\",\n",
    "                    save=True, \n",
    "                    savename=svr_prtp_folder + \"/\" + \"pred_actual_DCIE_\" + prtp_name + \"_all\")"
   ]
  },
  {
   "cell_type": "code",
   "execution_count": null,
   "metadata": {},
   "outputs": [],
   "source": []
  },
  {
   "cell_type": "code",
   "execution_count": null,
   "metadata": {},
   "outputs": [],
   "source": []
  },
  {
   "cell_type": "code",
   "execution_count": null,
   "metadata": {},
   "outputs": [],
   "source": []
  }
 ],
 "metadata": {
  "kernelspec": {
   "display_name": "base",
   "language": "python",
   "name": "python3"
  },
  "language_info": {
   "codemirror_mode": {
    "name": "ipython",
    "version": 3
   },
   "file_extension": ".py",
   "mimetype": "text/x-python",
   "name": "python",
   "nbconvert_exporter": "python",
   "pygments_lexer": "ipython3",
   "version": "3.9.13"
  },
  "orig_nbformat": 4
 },
 "nbformat": 4,
 "nbformat_minor": 2
}
