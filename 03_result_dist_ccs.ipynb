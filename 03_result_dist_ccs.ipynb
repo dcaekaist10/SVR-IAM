{
 "cells": [
  {
   "cell_type": "code",
   "execution_count": null,
   "metadata": {},
   "outputs": [],
   "source": [
    "import numpy as np\n",
    "import pandas as pd\n",
    "\n",
    "import matplotlib.pyplot as plt\n",
    "%matplotlib inline"
   ]
  },
  {
   "cell_type": "markdown",
   "metadata": {},
   "source": [
    "### 1. Load mcs data"
   ]
  },
  {
   "cell_type": "code",
   "execution_count": null,
   "metadata": {},
   "outputs": [],
   "source": [
    "pred_main_folder= \"03_SCC_pred_folder_1030_iams_sspbase_ccs\"\n",
    "\n",
    "pred_result_folder_fund_prtp1= pred_main_folder + \"/fund/prtp1\"\n",
    "pred_result_folder_fund_prtp15= pred_main_folder + \"/fund/prtp15\"\n",
    "pred_result_folder_fund_prtp3= pred_main_folder + \"/fund/prtp3\"\n",
    "\n",
    "\n",
    "\n",
    "pred_result_folder_page_prtp1= pred_main_folder + \"/page/prtp1\"\n",
    "pred_result_folder_page_prtp15= pred_main_folder + \"/page/prtp15\"\n",
    "pred_result_folder_page_prtp3= pred_main_folder + \"/page/prtp3\"\n",
    "\n",
    "\n",
    "\n",
    "pred_result_folder_dice_prtp1= pred_main_folder + \"/dice/prtp1\"\n",
    "pred_result_folder_dice_prtp15= pred_main_folder + \"/dice/prtp15\"\n",
    "pred_result_folder_dice_prtp3= pred_main_folder + \"/dice/prtp3\"\n",
    "\n",
    "\n",
    "\n",
    "\n",
    "pred_result_folder_ssp_base_prtp1= pred_main_folder + \"/ssp_base/prtp1\"\n",
    "pred_result_folder_ssp_base_prtp15= pred_main_folder + \"/ssp_base/prtp15\"\n",
    "pred_result_folder_ssp_base_prtp3= pred_main_folder + \"/ssp_base/prtp3\"\n",
    "\n",
    "\n",
    "pred_result_folder_ssp_ccs_prtp1= pred_main_folder + \"/ssp_ccs/prtp1\"\n",
    "pred_result_folder_ssp_ccs_prtp15= pred_main_folder + \"/ssp_ccs/prtp15\"\n",
    "pred_result_folder_ssp_ccs_prtp3= pred_main_folder + \"/ssp_ccs/prtp3\"\n"
   ]
  },
  {
   "cell_type": "code",
   "execution_count": null,
   "metadata": {},
   "outputs": [],
   "source": [
    "from glob import glob\n",
    "\n",
    "filename_fund_prtp1= glob(pred_result_folder_fund_prtp1 + \"/\" + \"*.csv\") \n",
    "filename_fund_prtp15= glob(pred_result_folder_fund_prtp15 + \"/\" + \"*.csv\")\n",
    "filename_fund_prtp3= glob(pred_result_folder_fund_prtp3 + \"/\" + \"*.csv\")\n",
    "\n",
    "filename_page_prtp1= glob(pred_result_folder_page_prtp1 + \"/\" + \"*.csv\")\n",
    "filename_page_prtp15= glob(pred_result_folder_page_prtp15 + \"/\" + \"*.csv\")\n",
    "filename_page_prtp3= glob(pred_result_folder_page_prtp3 + \"/\" + \"*.csv\")\n",
    "\n",
    "\n",
    "filename_dice_prtp1= glob(pred_result_folder_dice_prtp1 + \"/\" + \"*.csv\")\n",
    "filename_dice_prtp15= glob(pred_result_folder_dice_prtp15 + \"/\" + \"*.csv\")\n",
    "filename_dice_prtp3= glob(pred_result_folder_dice_prtp3 + \"/\" + \"*.csv\")\n",
    "\n",
    "\n",
    "filename_ssp_base_prtp1= glob(pred_result_folder_ssp_base_prtp1 + \"/\" + \"*.csv\")\n",
    "filename_ssp_base_prtp15= glob(pred_result_folder_ssp_base_prtp15 + \"/\" + \"*.csv\")\n",
    "filename_ssp_base_prtp3= glob(pred_result_folder_ssp_base_prtp3 + \"/\" + \"*.csv\")\n",
    "\n",
    "\n",
    "filename_ssp_ccs_prtp1= glob(pred_result_folder_ssp_ccs_prtp1 + \"/\" + \"*.csv\")\n",
    "filename_ssp_ccs_prtp15= glob(pred_result_folder_ssp_ccs_prtp15 + \"/\" + \"*.csv\")\n",
    "filename_ssp_ccs_prtp3= glob(pred_result_folder_ssp_ccs_prtp3 + \"/\" + \"*.csv\")"
   ]
  },
  {
   "cell_type": "code",
   "execution_count": null,
   "metadata": {},
   "outputs": [],
   "source": [
    "len(filename_fund_prtp1), len(filename_page_prtp1), len(filename_dice_prtp1), len(filename_ssp_base_prtp1), len(filename_ssp_ccs_prtp1)"
   ]
  },
  {
   "cell_type": "code",
   "execution_count": null,
   "metadata": {},
   "outputs": [],
   "source": [
    "num_data_iam= 50\n",
    "num_data_base= 250\n",
    "num_data_ccs= 700"
   ]
  },
  {
   "cell_type": "code",
   "execution_count": null,
   "metadata": {},
   "outputs": [],
   "source": [
    "fund_prtp1= []\n",
    "fund_prtp15= []\n",
    "fund_prtp3= []\n",
    "\n",
    "page_prtp1= []\n",
    "page_prtp15= []\n",
    "page_prtp3= []\n",
    "\n",
    "dice_prtp1= []\n",
    "dice_prtp15= []\n",
    "dice_prtp3= []\n",
    "\n",
    "\n",
    "for i in range(num_data_iam):\n",
    "    fund_prtp1.append(pd.read_csv(filename_fund_prtp1[i], index_col=0))\n",
    "    fund_prtp15.append(pd.read_csv(filename_fund_prtp15[i], index_col=0))\n",
    "    fund_prtp3.append(pd.read_csv(filename_fund_prtp3[i], index_col=0))\n",
    "\n",
    "    page_prtp1.append(pd.read_csv(filename_page_prtp1[i], index_col=0))\n",
    "    page_prtp15.append(pd.read_csv(filename_page_prtp15[i], index_col=0))\n",
    "    page_prtp3.append(pd.read_csv(filename_page_prtp3[i], index_col=0))\n",
    "\n",
    "    dice_prtp1.append(pd.read_csv(filename_dice_prtp1[i], index_col=0))\n",
    "    dice_prtp15.append(pd.read_csv(filename_dice_prtp15[i], index_col=0))\n",
    "    dice_prtp3.append(pd.read_csv(filename_dice_prtp3[i], index_col=0))"
   ]
  },
  {
   "cell_type": "code",
   "execution_count": null,
   "metadata": {},
   "outputs": [],
   "source": [
    "ssp_base_prtp1= []\n",
    "ssp_base_prtp15= []\n",
    "ssp_base_prtp3= []\n",
    "\n",
    "\n",
    "for i in range(num_data_base):\n",
    "    ssp_base_prtp1.append(pd.read_csv(filename_ssp_base_prtp1[i], index_col=0))\n",
    "    ssp_base_prtp15.append(pd.read_csv(filename_ssp_base_prtp15[i], index_col=0))\n",
    "    ssp_base_prtp3.append(pd.read_csv(filename_ssp_base_prtp3[i], index_col=0))\n"
   ]
  },
  {
   "cell_type": "code",
   "execution_count": null,
   "metadata": {},
   "outputs": [],
   "source": [
    "ssp_ccs_prtp1= []\n",
    "ssp_ccs_prtp15= []\n",
    "ssp_ccs_prtp3= []\n",
    "\n",
    "\n",
    "for i in range(num_data_ccs):\n",
    "    ssp_ccs_prtp1.append(pd.read_csv(filename_ssp_ccs_prtp1[i], index_col=0))\n",
    "    ssp_ccs_prtp15.append(pd.read_csv(filename_ssp_ccs_prtp15[i], index_col=0))\n",
    "    ssp_ccs_prtp3.append(pd.read_csv(filename_ssp_ccs_prtp3[i], index_col=0))\n"
   ]
  },
  {
   "cell_type": "code",
   "execution_count": null,
   "metadata": {},
   "outputs": [],
   "source": []
  },
  {
   "cell_type": "code",
   "execution_count": null,
   "metadata": {},
   "outputs": [],
   "source": [
    "fund_prtp1[0]"
   ]
  },
  {
   "cell_type": "code",
   "execution_count": null,
   "metadata": {},
   "outputs": [],
   "source": [
    "len(fund_prtp1) + len(page_prtp1) + len(dice_prtp1) + len(ssp_base_prtp1) + len(ssp_ccs_prtp1)"
   ]
  },
  {
   "cell_type": "code",
   "execution_count": null,
   "metadata": {},
   "outputs": [],
   "source": [
    "len(ssp_ccs_prtp1)"
   ]
  },
  {
   "cell_type": "code",
   "execution_count": null,
   "metadata": {},
   "outputs": [],
   "source": []
  },
  {
   "cell_type": "markdown",
   "metadata": {},
   "source": [
    "### All SCC results"
   ]
  },
  {
   "cell_type": "code",
   "execution_count": null,
   "metadata": {},
   "outputs": [],
   "source": [
    "all_scc_cols= list(fund_prtp1[0].columns[1:]) + list(fund_prtp15[0].columns[1:]) + list(fund_prtp3[0].columns[1:])\n",
    "all_scc_cols"
   ]
  },
  {
   "cell_type": "code",
   "execution_count": null,
   "metadata": {},
   "outputs": [],
   "source": [
    "all_scc_results= pd.concat([pd.concat([pd.concat([*fund_prtp15]), pd.concat([*fund_prtp1]).iloc[:, 1:], pd.concat([*fund_prtp3]).iloc[:, 1:]], axis=1),\n",
    "                            pd.concat([pd.concat([*page_prtp15]), pd.concat([*page_prtp1]).iloc[:, 1:], pd.concat([*page_prtp3]).iloc[:, 1:]], axis=1),\n",
    "                            pd.concat([pd.concat([*dice_prtp15]), pd.concat([*dice_prtp1]).iloc[:, 1:], pd.concat([*dice_prtp3]).iloc[:, 1:]], axis=1),\n",
    "                            pd.concat([pd.concat([*ssp_base_prtp15]), pd.concat([*ssp_base_prtp1]).iloc[:, 1:], pd.concat([*ssp_base_prtp3]).iloc[:, 1:]], axis=1),\n",
    "                            pd.concat([pd.concat([*ssp_ccs_prtp15]), pd.concat([*ssp_ccs_prtp1]).iloc[:, 1:], pd.concat([*ssp_ccs_prtp3]).iloc[:, 1:]], axis=1)\n",
    "                            ]).reset_index(drop=True)"
   ]
  },
  {
   "cell_type": "code",
   "execution_count": null,
   "metadata": {},
   "outputs": [],
   "source": [
    "all_scc_results"
   ]
  },
  {
   "cell_type": "code",
   "execution_count": null,
   "metadata": {},
   "outputs": [],
   "source": []
  },
  {
   "cell_type": "code",
   "execution_count": null,
   "metadata": {},
   "outputs": [],
   "source": []
  },
  {
   "cell_type": "markdown",
   "metadata": {},
   "source": [
    "### For probability calc"
   ]
  },
  {
   "cell_type": "code",
   "execution_count": null,
   "metadata": {},
   "outputs": [],
   "source": [
    "import collections\n",
    "from collections import Counter\n",
    "\n",
    "def prob_calc(data_int, choose_year, interval_list= [0, 8000, 50]):\n",
    "    ### get data for each year\n",
    "    # test= data_int.loc[data_int.Year == choose_year].values.reshape(-1,)[:-1]\n",
    "    test= data_int.loc[data_int.Year == choose_year].iloc[:, :-1].values.reshape(-1,)\n",
    "\n",
    "    ### set inteval value (per 50)\n",
    "    interval_choose= np.arange(interval_list[0], interval_list[1], interval_list[2])\n",
    "\n",
    "    ### get count value for each int data\n",
    "    df_count= pd.DataFrame.from_dict(collections.Counter(test), orient=\"index\")\n",
    "    df_count.columns = [\"count_result\"]\n",
    "    df_count[\"int_value\"]= df_count.index\n",
    "    df_count= df_count.reset_index(drop=True)\n",
    "    df_count\n",
    "\n",
    "\n",
    "\n",
    "    ### sum count data based on the interval value\n",
    "    mid_points= []\n",
    "\n",
    "    for i in range(len(interval_choose[0:-1])):\n",
    "        # print(i)\n",
    "        mid_points.append(df_count.loc[(df_count.int_value >= interval_choose[i]) & (df_count.int_value < interval_choose[i+1])].count_result.sum())\n",
    "    \n",
    "    # last_point= df_count.loc[df_count.int_value > interval_choose[-2]].count_result.sum()\n",
    "    last_point= df_count.loc[df_count.int_value >= interval_choose[-1]].count_result.sum()\n",
    "\n",
    "    \n",
    "    ### get probability value\n",
    "    prob_df= pd.DataFrame({\"interval_value\": interval_choose,\n",
    "                           \"count_value\": np.hstack([mid_points, last_point])\n",
    "                           })\n",
    "    \n",
    "    prob_df[\"prob_value\"] = prob_df.count_value.values / len(test)\n",
    "\n",
    "    return df_count, prob_df\n",
    "    "
   ]
  },
  {
   "cell_type": "code",
   "execution_count": null,
   "metadata": {},
   "outputs": [],
   "source": [
    "all_scc_cols"
   ]
  },
  {
   "cell_type": "code",
   "execution_count": null,
   "metadata": {},
   "outputs": [],
   "source": [
    "all_prtp_scc_only_df_int= all_scc_results[all_scc_cols].round().astype(\"int\")\n",
    "all_prtp_scc_only_df_int[\"Year\"] = all_scc_results.Year\n",
    "all_prtp_scc_only_df_int"
   ]
  },
  {
   "cell_type": "code",
   "execution_count": null,
   "metadata": {},
   "outputs": [],
   "source": [
    "def get_index_value(val_num, interval_list=[0, 8000, 50]):\n",
    "    interval_choose= np.arange(interval_list[0], interval_list[1], interval_list[2])\n",
    "    index_result = np.asarray(np.where(interval_choose <= val_num)).reshape(-1,)[-1]\n",
    "    return index_result\n"
   ]
  },
  {
   "cell_type": "code",
   "execution_count": null,
   "metadata": {},
   "outputs": [],
   "source": []
  },
  {
   "cell_type": "code",
   "execution_count": null,
   "metadata": {},
   "outputs": [],
   "source": []
  },
  {
   "cell_type": "markdown",
   "metadata": {},
   "source": [
    "### FILTER all extreme"
   ]
  },
  {
   "cell_type": "code",
   "execution_count": null,
   "metadata": {},
   "outputs": [],
   "source": [
    "all_prtp_scc_only_df_int_filter= all_prtp_scc_only_df_int[['scc_cs_5', 'scc_cs_6', 'scc_cs_7', 'scc_cs_1', 'scc_cs_2',\n",
    "       'scc_cs_3', 'scc_cs_9', 'scc_cs_10', 'scc_cs_11',\n",
    "       'scc_cs_12', 'Year']]"
   ]
  },
  {
   "cell_type": "code",
   "execution_count": null,
   "metadata": {},
   "outputs": [],
   "source": [
    "all_prtp_scc_only_df_int_filter.columns"
   ]
  },
  {
   "cell_type": "code",
   "execution_count": null,
   "metadata": {},
   "outputs": [],
   "source": [
    "all_prtp_scc_only_df_int_filter.max()"
   ]
  },
  {
   "cell_type": "code",
   "execution_count": null,
   "metadata": {},
   "outputs": [],
   "source": []
  },
  {
   "cell_type": "markdown",
   "metadata": {},
   "source": [
    "### Combine all year"
   ]
  },
  {
   "cell_type": "code",
   "execution_count": null,
   "metadata": {},
   "outputs": [],
   "source": [
    "import seaborn as sns"
   ]
  },
  {
   "cell_type": "code",
   "execution_count": null,
   "metadata": {},
   "outputs": [],
   "source": [
    "fs=15\n",
    "\n",
    "start = 0\n",
    "end = 8000\n",
    "step = 10\n",
    "interval_list= [start, end, step]\n",
    "\n",
    "df_count_2020, prob_df_2020= prob_calc(data_int= all_prtp_scc_only_df_int_filter, \n",
    "                             choose_year= 2040,\n",
    "                             interval_list= interval_list)\n",
    "\n",
    "df_count_2080, prob_df_2080= prob_calc(data_int= all_prtp_scc_only_df_int_filter, \n",
    "                             choose_year= 2080,\n",
    "                             interval_list= interval_list)\n",
    "\n",
    "df_count_2100, prob_df_2100= prob_calc(data_int= all_prtp_scc_only_df_int_filter, \n",
    "                             choose_year= 2100,\n",
    "                             interval_list= interval_list)\n",
    "\n",
    "\n",
    "plt.figure(figsize=(10, 6))\n",
    "ax= sns.barplot(data=prob_df_2020, x='interval_value', y='prob_value', color= 'blue', alpha=0.5, lw=4, label='2040',)\n",
    "sns.barplot(data=prob_df_2080, x='interval_value', y='prob_value', color= 'green', alpha=0.5, lw=4, label='2080', ax=ax)\n",
    "sns.barplot(data=prob_df_2100, x='interval_value', y='prob_value', color= 'red', alpha=0.5, lw=4, label='2100', ax=ax)\n",
    "\n",
    "\n",
    "# Adjust x-axis ticks and labels\n",
    "every_nth = 50\n",
    "\n",
    "# Get the current tick locations and labels\n",
    "ticks = ax.get_xticks()\n",
    "labels = [item.get_text() for item in ax.get_xticklabels()]\n",
    "\n",
    "# Set new tick locations and labels\n",
    "ax.set_xticks([tick for idx, tick in enumerate(ticks) if idx % every_nth == 0])\n",
    "ax.set_xticklabels([label for idx, label in enumerate(labels) if idx % every_nth == 0])\n",
    "ax.set_ylim(0, 0.05)\n",
    "\n",
    "plt.xlabel(\"SCC \" + scc_unit, fontsize= fs-2, labelpad=5)\n",
    "plt.title(\"SCC probablilty 2040 vs 2080 vs 2100 with CCS\", fontsize = fs, pad=5)\n",
    "\n",
    "\n",
    "plt.legend(fontsize=fs-3)"
   ]
  },
  {
   "cell_type": "code",
   "execution_count": null,
   "metadata": {},
   "outputs": [],
   "source": []
  },
  {
   "cell_type": "code",
   "execution_count": null,
   "metadata": {},
   "outputs": [],
   "source": []
  }
 ],
 "metadata": {
  "kernelspec": {
   "display_name": "base",
   "language": "python",
   "name": "python3"
  },
  "language_info": {
   "codemirror_mode": {
    "name": "ipython",
    "version": 3
   },
   "file_extension": ".py",
   "mimetype": "text/x-python",
   "name": "python",
   "nbconvert_exporter": "python",
   "pygments_lexer": "ipython3",
   "version": "3.9.13"
  },
  "orig_nbformat": 4,
  "vscode": {
   "interpreter": {
    "hash": "ec8df9568a9eacc0d760bbfd484c0514b73a85f3b56dc7045b6d2b6a63e26c79"
   }
  }
 },
 "nbformat": 4,
 "nbformat_minor": 2
}
